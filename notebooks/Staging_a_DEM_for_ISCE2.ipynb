{
 "cells": [
  {
   "cell_type": "markdown",
   "id": "signal-turkish",
   "metadata": {},
   "source": [
    "Notes:\n",
    "\n",
    "1. You will have to install isce2 e.g. `mamba install -c conda-forge isce2 lxml`\n",
    "2. You will have to launch this notebook from a terminal in which the environment is activated since this notebook sends commands to the terminal (specifically `isce2` commands) "
   ]
  },
  {
   "cell_type": "code",
   "execution_count": 1,
   "id": "closing-annex",
   "metadata": {
    "ExecuteTime": {
     "end_time": "2022-02-02T21:24:15.364818Z",
     "start_time": "2022-02-02T21:24:15.346330Z"
    }
   },
   "outputs": [],
   "source": [
    "%load_ext autoreload\n",
    "%autoreload 2"
   ]
  },
  {
   "cell_type": "code",
   "execution_count": 2,
   "id": "japanese-chambers",
   "metadata": {
    "ExecuteTime": {
     "end_time": "2022-02-02T21:24:18.585381Z",
     "start_time": "2022-02-02T21:24:15.367041Z"
    }
   },
   "outputs": [
    {
     "name": "stdout",
     "output_type": "stream",
     "text": [
      "Using default ISCE Path: /Users/cmarshak/opt/anaconda3/envs/dem-stitcher/lib/python3.9/site-packages/isce\n",
      "This is the Open Source version of ISCE.\n",
      "Some of the workflows depend on a separate licensed package.\n",
      "To obtain the licensed package, please make a request for ISCE\n",
      "through the website: https://download.jpl.nasa.gov/ops/request/index.cfm.\n",
      "Alternatively, if you are a member, or can become a member of WinSAR\n",
      "you may be able to obtain access to a version of the licensed sofware at\n",
      "https://winsar.unavco.org/software/isce\n"
     ]
    }
   ],
   "source": [
    "from dem_stitcher.stitcher import stitch_dem\n",
    "import rasterio\n",
    "import matplotlib.pyplot as plt\n",
    "from pathlib import Path\n",
    "import subprocess\n",
    "import site\n",
    "from lxml import etree\n",
    "import isce\n",
    "from shapely.geometry import box\n",
    "import numpy as np"
   ]
  },
  {
   "cell_type": "markdown",
   "id": "funded-trailer",
   "metadata": {},
   "source": [
    "# Parameters"
   ]
  },
  {
   "cell_type": "code",
   "execution_count": 3,
   "id": "still-decimal",
   "metadata": {
    "ExecuteTime": {
     "end_time": "2022-02-02T21:24:18.610169Z",
     "start_time": "2022-02-02T21:24:18.587049Z"
    }
   },
   "outputs": [],
   "source": [
    "dem_name = 'glo_30'\n",
    "bounds = [-169.0, 53., -167.0, 54.]"
   ]
  },
  {
   "cell_type": "code",
   "execution_count": 4,
   "id": "legendary-hollywood",
   "metadata": {
    "ExecuteTime": {
     "end_time": "2022-02-02T21:24:18.641851Z",
     "start_time": "2022-02-02T21:24:18.613061Z"
    }
   },
   "outputs": [],
   "source": [
    "def tag_dem_xml_as_ellipsoidal(dem_path: Path) -> str:\n",
    "    xml_path = str(dem_path) + '.xml'\n",
    "    assert(Path(xml_path).exists())\n",
    "    tree = etree.parse(xml_path)\n",
    "    root = tree.getroot()\n",
    "\n",
    "    y = etree.Element(\"property\", name='reference')\n",
    "    etree.SubElement(y, \"value\").text = \"WGS84\"\n",
    "    etree.SubElement(y, \"doc\").text = \"Geodetic datum\"\n",
    "\n",
    "    root.insert(0, y)\n",
    "    with open(xml_path, 'wb') as file:\n",
    "        file.write(etree.tostring(root, pretty_print=True))\n",
    "    return xml_path\n",
    "\n",
    "\n",
    "def fix_image_xml(isce_raster_path: str) -> str:\n",
    "    isce_apps_path = site.getsitepackages()[0] + '/isce/applications'\n",
    "    fix_cmd = [f'{isce_apps_path}/fixImageXml.py',\n",
    "               '-i',\n",
    "               str(isce_raster_path),\n",
    "               '--full']\n",
    "    fix_cmd_line = ' '.join(fix_cmd)\n",
    "    subprocess.check_call(fix_cmd_line, shell=True)\n",
    "    return isce_raster_path\n",
    "\n",
    "\n",
    "def download_dem_for_isce2(extent: list,\n",
    "                           dem_name: str = 'glo_30',\n",
    "                           dem_dir: Path = None,\n",
    "                           buffer: float = .004) -> dict:\n",
    "    \"\"\"\n",
    "    Parameters\n",
    "    ----------\n",
    "    extent : list\n",
    "        [xmin, ymin, xmax, ymin] for epsg:4326 (i.e. (x, y) = (lon, lat))\n",
    "    dem_name : str, optional\n",
    "        See names in `dem_stitcher`\n",
    "    full_res_dem_dir : Path, optional\n",
    "    low_res_dem_dir : Path, optional\n",
    "    buffer : float, optional\n",
    "        In degrees, by default .001, which is .5 km at equator\n",
    "    Returns\n",
    "    -------\n",
    "    Path\n",
    "    \"\"\"\n",
    "    dem_dir = dem_dir or Path(f'{dem_name}')\n",
    "    dem_dir.mkdir(exist_ok=True, parents=True)\n",
    "\n",
    "    extent_geo = box(*extent)\n",
    "    extent_buffered = list(extent_geo.buffer(buffer).bounds)\n",
    "    extent_buffered = list(map(lambda e: round(e, 3), extent_buffered))\n",
    "\n",
    "    dem_array, dem_profile = stitch_dem(extent_buffered,\n",
    "                                        dem_name,\n",
    "                                        dst_area_or_point='Point',\n",
    "                                        dst_ellipsoidal_height=True,\n",
    "                                        max_workers=5)\n",
    "\n",
    "    full_res_dem_path = dem_dir/f'{dem_name}.dem.wgs84'\n",
    "    dem_array[np.isnan(dem_array)] = 0.\n",
    "    dem_profile['nodata'] = None\n",
    "    dem_profile['driver'] = 'ISCE'\n",
    "    with rasterio.open(full_res_dem_path, 'w', **dem_profile) as ds:\n",
    "        ds.write(dem_array, 1)\n",
    "\n",
    "    full_res_dem_xml = tag_dem_xml_as_ellipsoidal(full_res_dem_path)\n",
    "\n",
    "    fix_image_xml(full_res_dem_xml)\n",
    "\n",
    "    return full_res_dem_xml"
   ]
  },
  {
   "cell_type": "code",
   "execution_count": 5,
   "id": "postal-worry",
   "metadata": {
    "ExecuteTime": {
     "end_time": "2022-02-02T21:24:58.432692Z",
     "start_time": "2022-02-02T21:24:18.643790Z"
    }
   },
   "outputs": [
    {
     "name": "stderr",
     "output_type": "stream",
     "text": [
      "Reading glo_30 Datasets: 100%|█| 12/12 [00:10<00:00,  1.18it\n"
     ]
    },
    {
     "name": "stdout",
     "output_type": "stream",
     "text": [
      "This is the Open Source version of ISCE.\n",
      "Some of the workflows depend on a separate licensed package.\n",
      "To obtain the licensed package, please make a request for ISCE\n",
      "through the website: https://download.jpl.nasa.gov/ops/request/index.cfm.\n",
      "Alternatively, if you are a member, or can become a member of WinSAR\n",
      "you may be able to obtain access to a version of the licensed sofware at\n",
      "https://winsar.unavco.org/software/isce\n",
      "Writing geotrans to VRT for /Users/cmarshak/bekaert-team/dem-stitcher/notebooks/isce_dem/glo_30.dem.wgs84\n"
     ]
    },
    {
     "data": {
      "text/plain": [
       "'isce_dem/glo_30.dem.wgs84.xml'"
      ]
     },
     "execution_count": 5,
     "metadata": {},
     "output_type": "execute_result"
    }
   ],
   "source": [
    "download_dem_for_isce2(extent=bounds,\n",
    "                       dem_name=dem_name,\n",
    "                       dem_dir=Path('isce_dem'))"
   ]
  }
 ],
 "metadata": {
  "kernelspec": {
   "display_name": "dem-stitcher",
   "language": "python",
   "name": "dem-stitcher"
  },
  "language_info": {
   "codemirror_mode": {
    "name": "ipython",
    "version": 3
   },
   "file_extension": ".py",
   "mimetype": "text/x-python",
   "name": "python",
   "nbconvert_exporter": "python",
   "pygments_lexer": "ipython3",
   "version": "3.9.7"
  }
 },
 "nbformat": 4,
 "nbformat_minor": 5
}
