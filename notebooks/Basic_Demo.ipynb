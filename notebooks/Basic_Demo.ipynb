{
 "cells": [
  {
   "cell_type": "code",
   "execution_count": 1,
   "id": "32e12a5b",
   "metadata": {
    "ExecuteTime": {
     "end_time": "2022-11-29T17:59:57.064622Z",
     "start_time": "2022-11-29T17:59:57.042028Z"
    }
   },
   "outputs": [],
   "source": [
    "%load_ext autoreload\n",
    "%autoreload 2"
   ]
  },
  {
   "cell_type": "code",
   "execution_count": 2,
   "id": "4533e8ee",
   "metadata": {
    "ExecuteTime": {
     "end_time": "2022-11-29T17:59:58.333486Z",
     "start_time": "2022-11-29T17:59:57.310293Z"
    }
   },
   "outputs": [],
   "source": [
    "from dem_stitcher.stitcher import stitch_dem\n",
    "import rasterio\n",
    "from rasterio import plot\n",
    "import matplotlib.pyplot as plt\n",
    "from pathlib import Path"
   ]
  },
  {
   "cell_type": "markdown",
   "id": "90f61101",
   "metadata": {},
   "source": [
    "Parameters for the notebook"
   ]
  },
  {
   "cell_type": "code",
   "execution_count": 3,
   "id": "c63f427d",
   "metadata": {
    "ExecuteTime": {
     "end_time": "2022-11-29T17:59:58.360342Z",
     "start_time": "2022-11-29T17:59:58.335383Z"
    },
    "tags": [
     "parameters"
    ]
   },
   "outputs": [],
   "source": [
    "dst_area_or_point = 'Point'\n",
    "dst_ellipsoidal_height = True\n",
    "dem_name = 'glo_30'\n",
    "out_directory_name = 'out'"
   ]
  },
  {
   "cell_type": "code",
   "execution_count": 4,
   "id": "6411d48e",
   "metadata": {
    "ExecuteTime": {
     "end_time": "2022-11-29T17:59:58.751552Z",
     "start_time": "2022-11-29T17:59:58.726285Z"
    }
   },
   "outputs": [],
   "source": [
    "out_directory = Path(out_directory_name)\n",
    "out_directory.mkdir(exist_ok=True, parents=True)"
   ]
  },
  {
   "cell_type": "code",
   "execution_count": null,
   "id": "5e543828",
   "metadata": {
    "ExecuteTime": {
     "end_time": "2022-11-29T18:00:33.622784Z",
     "start_time": "2022-11-29T17:59:59.133878Z"
    }
   },
   "outputs": [
    {
     "name": "stderr",
     "output_type": "stream",
     "text": [
      "/Users/cmarshak/mambaforge/envs/dem-stitcher/lib/python3.11/site-packages/shapely/set_operations.py:133: RuntimeWarning: invalid value encountered in intersection\n",
      "  return lib.intersection(a, b, **kwargs)\n",
      "Reading glo_30 Datasets: 100%|████████████████████████████████████████████████████████████████████████████████████████████████████████████████████████████████████████████████████████| 5/5 [00:06<00:00,  1.32s/it]\n",
      "/Users/cmarshak/mambaforge/envs/dem-stitcher/lib/python3.11/site-packages/shapely/set_operations.py:133: RuntimeWarning: invalid value encountered in intersection\n",
      "  return lib.intersection(a, b, **kwargs)\n"
     ]
    }
   ],
   "source": [
    "%%time\n",
    "\n",
    "# Central coast of California\n",
    "# xmin, ymin, xmax, ymax\n",
    "bounds = [-121.5, 34.95, -120.2, 36.25]\n",
    "\n",
    "X, p = stitch_dem(bounds,\n",
    "                  dem_name=dem_name,\n",
    "                  dst_ellipsoidal_height=dst_ellipsoidal_height,\n",
    "                  dst_area_or_point=dst_area_or_point)"
   ]
  },
  {
   "cell_type": "code",
   "execution_count": null,
   "id": "48241016",
   "metadata": {
    "ExecuteTime": {
     "end_time": "2022-11-29T18:00:35.470596Z",
     "start_time": "2022-11-29T18:00:33.624821Z"
    }
   },
   "outputs": [],
   "source": [
    "fig, ax = plt.subplots(figsize=(8, 8))\n",
    "ax = plot.show(X, transform=p['transform'], ax=ax)\n",
    "ax.set_xlabel('Longitude', size=15)\n",
    "ax.set_ylabel('Latitude', size=15)"
   ]
  },
  {
   "cell_type": "markdown",
   "id": "c05b3d23",
   "metadata": {},
   "source": [
    "Write the file and ensure tags are specified. Uncomment to save the DEM as a GeoTiff file."
   ]
  },
  {
   "cell_type": "code",
   "execution_count": null,
   "id": "4bbe309a",
   "metadata": {
    "ExecuteTime": {
     "end_time": "2022-11-29T18:00:36.916886Z",
     "start_time": "2022-11-29T18:00:35.472250Z"
    }
   },
   "outputs": [],
   "source": [
    "height_type = 'ellipsoidal' if dst_ellipsoidal_height else 'geoid'\n",
    "\n",
    "with rasterio.open(out_directory / f'{dem_name}_{height_type}_{dst_area_or_point}.tif', 'w', **p) as ds:\n",
    "    ds.write(X, 1)\n",
    "    ds.update_tags(AREA_OR_POINT=dst_area_or_point) "
   ]
  }
 ],
 "metadata": {
  "kernelspec": {
   "display_name": "dem-stitcher",
   "language": "python",
   "name": "dem-stitcher"
  },
  "language_info": {
   "codemirror_mode": {
    "name": "ipython",
    "version": 3
   },
   "file_extension": ".py",
   "mimetype": "text/x-python",
   "name": "python",
   "nbconvert_exporter": "python",
   "pygments_lexer": "ipython3",
   "version": "3.11.3"
  }
 },
 "nbformat": 4,
 "nbformat_minor": 5
}
