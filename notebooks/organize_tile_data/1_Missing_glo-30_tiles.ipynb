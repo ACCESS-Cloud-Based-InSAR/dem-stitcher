{
 "cells": [
  {
   "cell_type": "markdown",
   "id": "b63501f0",
   "metadata": {},
   "source": [
    "This notebook should be run after `glo_30.geojson.zip` and `glo_90.geojson.zip` have been generated in the previous notebook."
   ]
  },
  {
   "cell_type": "code",
   "execution_count": 1,
   "id": "55ba6cfd",
   "metadata": {
    "ExecuteTime": {
     "end_time": "2022-11-21T18:58:55.185808Z",
     "start_time": "2022-11-21T18:58:54.149387Z"
    }
   },
   "outputs": [],
   "source": [
    "from dem_stitcher.geojson_io import read_geojson_gzip, to_geojson_gzip\n",
    "import numpy as np\n",
    "import geopandas as gpd\n",
    "import matplotlib.pyplot as plt\n",
    "from pathlib import Path"
   ]
  },
  {
   "cell_type": "code",
   "execution_count": 2,
   "id": "378e6fe3",
   "metadata": {
    "ExecuteTime": {
     "end_time": "2022-11-21T18:58:56.471438Z",
     "start_time": "2022-11-21T18:58:55.189790Z"
    }
   },
   "outputs": [],
   "source": [
    "df_glo30 = read_geojson_gzip('data/glo_30.geojson.zip')\n",
    "df_glo90 = read_geojson_gzip('data/glo_90.geojson.zip')"
   ]
  },
  {
   "cell_type": "code",
   "execution_count": 3,
   "id": "e562872a",
   "metadata": {
    "ExecuteTime": {
     "end_time": "2022-11-21T18:59:01.305396Z",
     "start_time": "2022-11-21T18:58:56.473563Z"
    }
   },
   "outputs": [
    {
     "data": {
      "text/plain": [
       "<AxesSubplot:>"
      ]
     },
     "execution_count": 3,
     "metadata": {},
     "output_type": "execute_result"
    },
    {
     "data": {
      "image/png": "[encoded data removed]",
      "text/plain": [
       "<Figure size 432x288 with 1 Axes>"
      ]
     },
     "metadata": {
      "needs_background": "light"
     },
     "output_type": "display_data"
    }
   ],
   "source": [
    "df_glo90.plot()"
   ]
  },
  {
   "cell_type": "code",
   "execution_count": 4,
   "id": "891c3c4a",
   "metadata": {
    "ExecuteTime": {
     "end_time": "2022-11-21T18:59:05.044303Z",
     "start_time": "2022-11-21T18:59:01.307688Z"
    }
   },
   "outputs": [
    {
     "name": "stderr",
     "output_type": "stream",
     "text": [
      "/var/folders/s6/fbsc26cd0ddffbp3_knts_9c0wcxj1/T/ipykernel_76421/1417027846.py:1: UserWarning: Geometry is in a geographic CRS. Results from 'buffer' are likely incorrect. Use 'GeoSeries.to_crs()' to re-project geometries to a projected CRS before this operation.\n",
      "\n",
      "  geometry_shrunk = df_glo30.geometry.buffer(-.01).unary_union\n"
     ]
    }
   ],
   "source": [
    "geometry_shrunk = df_glo30.geometry.buffer(-.01).unary_union"
   ]
  },
  {
   "cell_type": "code",
   "execution_count": 5,
   "id": "2cb536eb",
   "metadata": {
    "ExecuteTime": {
     "end_time": "2022-11-21T18:59:10.501936Z",
     "start_time": "2022-11-21T18:59:05.045547Z"
    }
   },
   "outputs": [
    {
     "data": {
      "text/plain": [
       "25"
      ]
     },
     "execution_count": 5,
     "metadata": {},
     "output_type": "execute_result"
    }
   ],
   "source": [
    "missing_indices = ~(df_glo90.geometry.intersects(geometry_shrunk))\n",
    "np.sum(missing_indices)"
   ]
  },
  {
   "cell_type": "code",
   "execution_count": 6,
   "id": "4afd8bc2",
   "metadata": {
    "ExecuteTime": {
     "end_time": "2022-11-21T18:59:10.515791Z",
     "start_time": "2022-11-21T18:59:10.504380Z"
    }
   },
   "outputs": [
    {
     "data": {
      "text/html": [
       "<div>\n",
       "<style scoped>\n",
       "    .dataframe tbody tr th:only-of-type {\n",
       "        vertical-align: middle;\n",
       "    }\n",
       "\n",
       "    .dataframe tbody tr th {\n",
       "        vertical-align: top;\n",
       "    }\n",
       "\n",
       "    .dataframe thead th {\n",
       "        text-align: right;\n",
       "    }\n",
       "</style>\n",
       "<table border=\"1\" class=\"dataframe\">\n",
       "  <thead>\n",
       "    <tr style=\"text-align: right;\">\n",
       "      <th></th>\n",
       "      <th>geometry</th>\n",
       "      <th>tile_id</th>\n",
       "      <th>url</th>\n",
       "    </tr>\n",
       "  </thead>\n",
       "  <tbody>\n",
       "    <tr>\n",
       "      <th>0</th>\n",
       "      <td>POLYGON ((46.00000 38.00000, 46.00000 39.00000...</td>\n",
       "      <td>Copernicus_DSM_COG_30_N38_00_E045_00_DEM</td>\n",
       "      <td>https://copernicus-dem-90m.s3.amazonaws.com/Co...</td>\n",
       "    </tr>\n",
       "    <tr>\n",
       "      <th>1</th>\n",
       "      <td>POLYGON ((47.00000 38.00000, 47.00000 39.00000...</td>\n",
       "      <td>Copernicus_DSM_COG_30_N38_00_E046_00_DEM</td>\n",
       "      <td>https://copernicus-dem-90m.s3.amazonaws.com/Co...</td>\n",
       "    </tr>\n",
       "    <tr>\n",
       "      <th>2</th>\n",
       "      <td>POLYGON ((49.00000 38.00000, 49.00000 39.00000...</td>\n",
       "      <td>Copernicus_DSM_COG_30_N38_00_E048_00_DEM</td>\n",
       "      <td>https://copernicus-dem-90m.s3.amazonaws.com/Co...</td>\n",
       "    </tr>\n",
       "    <tr>\n",
       "      <th>3</th>\n",
       "      <td>POLYGON ((50.00000 38.00000, 50.00000 39.00000...</td>\n",
       "      <td>Copernicus_DSM_COG_30_N38_00_E049_00_DEM</td>\n",
       "      <td>https://copernicus-dem-90m.s3.amazonaws.com/Co...</td>\n",
       "    </tr>\n",
       "    <tr>\n",
       "      <th>4</th>\n",
       "      <td>POLYGON ((45.00000 39.00000, 45.00000 40.00000...</td>\n",
       "      <td>Copernicus_DSM_COG_30_N39_00_E044_00_DEM</td>\n",
       "      <td>https://copernicus-dem-90m.s3.amazonaws.com/Co...</td>\n",
       "    </tr>\n",
       "  </tbody>\n",
       "</table>\n",
       "</div>"
      ],
      "text/plain": [
       "                                            geometry  \\\n",
       "0  POLYGON ((46.00000 38.00000, 46.00000 39.00000...   \n",
       "1  POLYGON ((47.00000 38.00000, 47.00000 39.00000...   \n",
       "2  POLYGON ((49.00000 38.00000, 49.00000 39.00000...   \n",
       "3  POLYGON ((50.00000 38.00000, 50.00000 39.00000...   \n",
       "4  POLYGON ((45.00000 39.00000, 45.00000 40.00000...   \n",
       "\n",
       "                                    tile_id  \\\n",
       "0  Copernicus_DSM_COG_30_N38_00_E045_00_DEM   \n",
       "1  Copernicus_DSM_COG_30_N38_00_E046_00_DEM   \n",
       "2  Copernicus_DSM_COG_30_N38_00_E048_00_DEM   \n",
       "3  Copernicus_DSM_COG_30_N38_00_E049_00_DEM   \n",
       "4  Copernicus_DSM_COG_30_N39_00_E044_00_DEM   \n",
       "\n",
       "                                                 url  \n",
       "0  https://copernicus-dem-90m.s3.amazonaws.com/Co...  \n",
       "1  https://copernicus-dem-90m.s3.amazonaws.com/Co...  \n",
       "2  https://copernicus-dem-90m.s3.amazonaws.com/Co...  \n",
       "3  https://copernicus-dem-90m.s3.amazonaws.com/Co...  \n",
       "4  https://copernicus-dem-90m.s3.amazonaws.com/Co...  "
      ]
     },
     "execution_count": 6,
     "metadata": {},
     "output_type": "execute_result"
    }
   ],
   "source": [
    "df_glo90_missing = df_glo90[missing_indices].reset_index(drop=True)\n",
    "df_glo90_missing.head()"
   ]
  },
  {
   "cell_type": "code",
   "execution_count": 7,
   "id": "e7e1bb1f",
   "metadata": {
    "ExecuteTime": {
     "end_time": "2022-11-21T18:59:12.812423Z",
     "start_time": "2022-11-21T18:59:12.460960Z"
    }
   },
   "outputs": [
    {
     "data": {
      "text/plain": [
       "(36.0, 44.0)"
      ]
     },
     "execution_count": 7,
     "metadata": {},
     "output_type": "execute_result"
    },
    {
     "data": {
      "image/png": "[encoded data removed]",
      "text/plain": [
       "<Figure size 432x288 with 1 Axes>"
      ]
     },
     "metadata": {
      "needs_background": "light"
     },
     "output_type": "display_data"
    }
   ],
   "source": [
    "fig, ax = plt.subplots()\n",
    "\n",
    "world = gpd.read_file(gpd.datasets.get_path('naturalearth_lowres'))\n",
    "\n",
    "df_glo90_missing.boundary.plot(ax=ax, zorder=2)\n",
    "world.plot(ax=ax, alpha=.5, zorder=1)\n",
    "\n",
    "xmin, ymin, xmax, ymax = df_glo90_missing.total_bounds\n",
    "ax.set_xlim(xmin - 2, xmax + 2)\n",
    "ax.set_ylim(ymin - 2, ymax + 2)"
   ]
  },
  {
   "cell_type": "code",
   "execution_count": 8,
   "id": "b468e278",
   "metadata": {
    "ExecuteTime": {
     "end_time": "2022-11-21T18:59:13.391344Z",
     "start_time": "2022-11-21T18:59:13.388675Z"
    }
   },
   "outputs": [],
   "source": [
    "DATA_PATH = Path('data')\n",
    "DATA_PATH.mkdir(exist_ok=True)"
   ]
  },
  {
   "cell_type": "code",
   "execution_count": 10,
   "id": "8bdf1ca6",
   "metadata": {
    "ExecuteTime": {
     "end_time": "2022-11-21T19:52:24.734425Z",
     "start_time": "2022-11-21T19:52:24.726689Z"
    }
   },
   "outputs": [
    {
     "data": {
      "text/plain": [
       "PosixPath('data/glo_90_missing.geojson.zip')"
      ]
     },
     "execution_count": 10,
     "metadata": {},
     "output_type": "execute_result"
    }
   ],
   "source": [
    "to_geojson_gzip(df_glo90_missing, DATA_PATH/'glo_90_missing.geojson.zip')"
   ]
  }
 ],
 "metadata": {
  "kernelspec": {
   "display_name": "dem-stitcher",
   "language": "python",
   "name": "dem-stitcher"
  },
  "language_info": {
   "codemirror_mode": {
    "name": "ipython",
    "version": 3
   },
   "file_extension": ".py",
   "mimetype": "text/x-python",
   "name": "python",
   "nbconvert_exporter": "python",
   "pygments_lexer": "ipython3",
   "version": "3.9.13"
  }
 },
 "nbformat": 4,
 "nbformat_minor": 5
}
