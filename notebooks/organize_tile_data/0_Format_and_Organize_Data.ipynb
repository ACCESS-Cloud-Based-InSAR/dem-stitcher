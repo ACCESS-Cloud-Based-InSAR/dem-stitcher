{
 "cells": [
  {
   "cell_type": "code",
   "execution_count": 1,
   "id": "d1972396",
   "metadata": {
    "ExecuteTime": {
     "end_time": "2022-11-21T22:34:18.292579Z",
     "start_time": "2022-11-21T22:34:17.044944Z"
    }
   },
   "outputs": [],
   "source": [
    "import geopandas as gpd\n",
    "import rasterio\n",
    "from shapely.geometry import box, Point\n",
    "import numpy as np\n",
    "import pandas as pd\n",
    "import matplotlib.pyplot as plt\n",
    "from pathlib import Path\n",
    "from itertools import starmap\n",
    "import requests\n",
    "import zipfile\n",
    "import io\n",
    "import boto3\n",
    "from tqdm import tqdm\n",
    "from rasterio.crs import CRS\n",
    "\n",
    "from dem_stitcher.geojson_io import to_geojson_gzip\n",
    "from dem_stitcher.dem_readers import read_srtm, read_nasadem"
   ]
  },
  {
   "cell_type": "code",
   "execution_count": 2,
   "id": "e0138588",
   "metadata": {
    "ExecuteTime": {
     "end_time": "2022-11-21T22:34:18.297569Z",
     "start_time": "2022-11-21T22:34:18.294972Z"
    }
   },
   "outputs": [],
   "source": [
    "DATA_PATH = Path('data')\n",
    "DATA_PATH.mkdir(exist_ok=True)"
   ]
  },
  {
   "cell_type": "markdown",
   "id": "0d352eda",
   "metadata": {},
   "source": [
    "# SRTM\n",
    "\n",
    "From here: https://figshare.com/articles/dataset/Vector_grid_of_SRTM_1x1_degree_tiles/1332753"
   ]
  },
  {
   "cell_type": "code",
   "execution_count": 3,
   "id": "71674531",
   "metadata": {
    "ExecuteTime": {
     "end_time": "2022-11-21T22:34:20.786966Z",
     "start_time": "2022-11-21T22:34:18.301674Z"
    }
   },
   "outputs": [
    {
     "data": {
      "text/html": [
       "<div>\n",
       "<style scoped>\n",
       "    .dataframe tbody tr th:only-of-type {\n",
       "        vertical-align: middle;\n",
       "    }\n",
       "\n",
       "    .dataframe tbody tr th {\n",
       "        vertical-align: top;\n",
       "    }\n",
       "\n",
       "    .dataframe thead th {\n",
       "        text-align: right;\n",
       "    }\n",
       "</style>\n",
       "<table border=\"1\" class=\"dataframe\">\n",
       "  <thead>\n",
       "    <tr style=\"text-align: right;\">\n",
       "      <th></th>\n",
       "      <th>id</th>\n",
       "      <th>geometry</th>\n",
       "    </tr>\n",
       "  </thead>\n",
       "  <tbody>\n",
       "    <tr>\n",
       "      <th>0</th>\n",
       "      <td>N00E006</td>\n",
       "      <td>POLYGON ((6.00000 0.00000, 6.00000 1.00000, 7....</td>\n",
       "    </tr>\n",
       "    <tr>\n",
       "      <th>1</th>\n",
       "      <td>N00E009</td>\n",
       "      <td>POLYGON ((9.00000 0.00000, 9.00000 1.00000, 10...</td>\n",
       "    </tr>\n",
       "    <tr>\n",
       "      <th>2</th>\n",
       "      <td>N00E010</td>\n",
       "      <td>POLYGON ((10.00000 0.00000, 10.00000 1.00000, ...</td>\n",
       "    </tr>\n",
       "    <tr>\n",
       "      <th>3</th>\n",
       "      <td>N00E011</td>\n",
       "      <td>POLYGON ((11.00000 0.00000, 11.00000 1.00000, ...</td>\n",
       "    </tr>\n",
       "    <tr>\n",
       "      <th>4</th>\n",
       "      <td>N00E012</td>\n",
       "      <td>POLYGON ((12.00000 0.00000, 12.00000 1.00000, ...</td>\n",
       "    </tr>\n",
       "  </tbody>\n",
       "</table>\n",
       "</div>"
      ],
      "text/plain": [
       "        id                                           geometry\n",
       "0  N00E006  POLYGON ((6.00000 0.00000, 6.00000 1.00000, 7....\n",
       "1  N00E009  POLYGON ((9.00000 0.00000, 9.00000 1.00000, 10...\n",
       "2  N00E010  POLYGON ((10.00000 0.00000, 10.00000 1.00000, ...\n",
       "3  N00E011  POLYGON ((11.00000 0.00000, 11.00000 1.00000, ...\n",
       "4  N00E012  POLYGON ((12.00000 0.00000, 12.00000 1.00000, ..."
      ]
     },
     "execution_count": 3,
     "metadata": {},
     "output_type": "execute_result"
    }
   ],
   "source": [
    "df_srtm_raw = gpd.read_file('https://ndownloader.figshare.com/files/1944795')\n",
    "df_srtm_raw.head()"
   ]
  },
  {
   "cell_type": "code",
   "execution_count": 4,
   "id": "a5bf14db",
   "metadata": {
    "ExecuteTime": {
     "end_time": "2022-11-21T22:34:20.813394Z",
     "start_time": "2022-11-21T22:34:20.789929Z"
    }
   },
   "outputs": [
    {
     "data": {
      "text/html": [
       "<div>\n",
       "<style scoped>\n",
       "    .dataframe tbody tr th:only-of-type {\n",
       "        vertical-align: middle;\n",
       "    }\n",
       "\n",
       "    .dataframe tbody tr th {\n",
       "        vertical-align: top;\n",
       "    }\n",
       "\n",
       "    .dataframe thead th {\n",
       "        text-align: right;\n",
       "    }\n",
       "</style>\n",
       "<table border=\"1\" class=\"dataframe\">\n",
       "  <thead>\n",
       "    <tr style=\"text-align: right;\">\n",
       "      <th></th>\n",
       "      <th>tile_id</th>\n",
       "      <th>url</th>\n",
       "      <th>geometry</th>\n",
       "    </tr>\n",
       "  </thead>\n",
       "  <tbody>\n",
       "    <tr>\n",
       "      <th>0</th>\n",
       "      <td>N00E006</td>\n",
       "      <td>https://e4ftl01.cr.usgs.gov/MEASURES/SRTMGL1.0...</td>\n",
       "      <td>POLYGON ((6.00000 0.00000, 6.00000 1.00000, 7....</td>\n",
       "    </tr>\n",
       "    <tr>\n",
       "      <th>1</th>\n",
       "      <td>N00E009</td>\n",
       "      <td>https://e4ftl01.cr.usgs.gov/MEASURES/SRTMGL1.0...</td>\n",
       "      <td>POLYGON ((9.00000 0.00000, 9.00000 1.00000, 10...</td>\n",
       "    </tr>\n",
       "    <tr>\n",
       "      <th>2</th>\n",
       "      <td>N00E010</td>\n",
       "      <td>https://e4ftl01.cr.usgs.gov/MEASURES/SRTMGL1.0...</td>\n",
       "      <td>POLYGON ((10.00000 0.00000, 10.00000 1.00000, ...</td>\n",
       "    </tr>\n",
       "    <tr>\n",
       "      <th>3</th>\n",
       "      <td>N00E011</td>\n",
       "      <td>https://e4ftl01.cr.usgs.gov/MEASURES/SRTMGL1.0...</td>\n",
       "      <td>POLYGON ((11.00000 0.00000, 11.00000 1.00000, ...</td>\n",
       "    </tr>\n",
       "    <tr>\n",
       "      <th>4</th>\n",
       "      <td>N00E012</td>\n",
       "      <td>https://e4ftl01.cr.usgs.gov/MEASURES/SRTMGL1.0...</td>\n",
       "      <td>POLYGON ((12.00000 0.00000, 12.00000 1.00000, ...</td>\n",
       "    </tr>\n",
       "  </tbody>\n",
       "</table>\n",
       "</div>"
      ],
      "text/plain": [
       "   tile_id                                                url  \\\n",
       "0  N00E006  https://e4ftl01.cr.usgs.gov/MEASURES/SRTMGL1.0...   \n",
       "1  N00E009  https://e4ftl01.cr.usgs.gov/MEASURES/SRTMGL1.0...   \n",
       "2  N00E010  https://e4ftl01.cr.usgs.gov/MEASURES/SRTMGL1.0...   \n",
       "3  N00E011  https://e4ftl01.cr.usgs.gov/MEASURES/SRTMGL1.0...   \n",
       "4  N00E012  https://e4ftl01.cr.usgs.gov/MEASURES/SRTMGL1.0...   \n",
       "\n",
       "                                            geometry  \n",
       "0  POLYGON ((6.00000 0.00000, 6.00000 1.00000, 7....  \n",
       "1  POLYGON ((9.00000 0.00000, 9.00000 1.00000, 10...  \n",
       "2  POLYGON ((10.00000 0.00000, 10.00000 1.00000, ...  \n",
       "3  POLYGON ((11.00000 0.00000, 11.00000 1.00000, ...  \n",
       "4  POLYGON ((12.00000 0.00000, 12.00000 1.00000, ...  "
      ]
     },
     "execution_count": 4,
     "metadata": {},
     "output_type": "execute_result"
    }
   ],
   "source": [
    "df_srtm = df_srtm_raw.copy()\n",
    "df_srtm.rename(columns={'id': 'tile_id'}, inplace=True)\n",
    "df_srtm['url'] = df_srtm['tile_id'].map(lambda tile_id: f'http://e4ftl01.cr.usgs.gov/MEASURES/SRTMGL1.003/2000.02.11/{tile_id}.SRTMGL1.hgt.zip')\n",
    "df_srtm = df_srtm[['tile_id', 'url', 'geometry']].copy()\n",
    "df_srtm.url = df_srtm.url.map(lambda url: url.replace('http://', 'https://'))\n",
    "df_srtm.head()"
   ]
  },
  {
   "cell_type": "code",
   "execution_count": 5,
   "id": "943ca4bf",
   "metadata": {
    "ExecuteTime": {
     "end_time": "2022-11-21T22:34:21.838276Z",
     "start_time": "2022-11-21T22:34:20.815102Z"
    }
   },
   "outputs": [
    {
     "data": {
      "text/plain": [
       "PosixPath('data/srtm_v3.geojson.zip')"
      ]
     },
     "execution_count": 5,
     "metadata": {},
     "output_type": "execute_result"
    }
   ],
   "source": [
    "to_geojson_gzip(df_srtm, DATA_PATH/'srtm_v3.geojson.zip')"
   ]
  },
  {
   "cell_type": "code",
   "execution_count": 6,
   "id": "9d621645",
   "metadata": {
    "ExecuteTime": {
     "end_time": "2022-11-21T22:34:25.686067Z",
     "start_time": "2022-11-21T22:34:21.840098Z"
    }
   },
   "outputs": [],
   "source": [
    "urls = df_srtm.url.to_list()\n",
    "\n",
    "X, p = read_srtm(urls[0])"
   ]
  },
  {
   "cell_type": "code",
   "execution_count": 7,
   "id": "151599ea",
   "metadata": {
    "ExecuteTime": {
     "end_time": "2022-11-21T22:34:26.272275Z",
     "start_time": "2022-11-21T22:34:25.687784Z"
    }
   },
   "outputs": [
    {
     "data": {
      "text/plain": [
       "<matplotlib.image.AxesImage at 0x1c3747100>"
      ]
     },
     "execution_count": 7,
     "metadata": {},
     "output_type": "execute_result"
    },
    {
     "data": {
      "image/png": "[encoded data removed]",
      "text/plain": [
       "<Figure size 432x288 with 1 Axes>"
      ]
     },
     "metadata": {
      "needs_background": "light"
     },
     "output_type": "display_data"
    }
   ],
   "source": [
    "plt.imshow(X)"
   ]
  },
  {
   "cell_type": "markdown",
   "id": "daa02c5e",
   "metadata": {},
   "source": [
    "# NASADEM"
   ]
  },
  {
   "cell_type": "code",
   "execution_count": 8,
   "id": "3824ea86",
   "metadata": {
    "ExecuteTime": {
     "end_time": "2022-11-21T22:34:26.289353Z",
     "start_time": "2022-11-21T22:34:26.274039Z"
    }
   },
   "outputs": [
    {
     "data": {
      "text/html": [
       "<div>\n",
       "<style scoped>\n",
       "    .dataframe tbody tr th:only-of-type {\n",
       "        vertical-align: middle;\n",
       "    }\n",
       "\n",
       "    .dataframe tbody tr th {\n",
       "        vertical-align: top;\n",
       "    }\n",
       "\n",
       "    .dataframe thead th {\n",
       "        text-align: right;\n",
       "    }\n",
       "</style>\n",
       "<table border=\"1\" class=\"dataframe\">\n",
       "  <thead>\n",
       "    <tr style=\"text-align: right;\">\n",
       "      <th></th>\n",
       "      <th>tile_id</th>\n",
       "      <th>url</th>\n",
       "      <th>geometry</th>\n",
       "    </tr>\n",
       "  </thead>\n",
       "  <tbody>\n",
       "    <tr>\n",
       "      <th>0</th>\n",
       "      <td>N00E006</td>\n",
       "      <td>https://e4ftl01.cr.usgs.gov/MEASURES/NASADEM_H...</td>\n",
       "      <td>POLYGON ((6.00000 0.00000, 6.00000 1.00000, 7....</td>\n",
       "    </tr>\n",
       "    <tr>\n",
       "      <th>1</th>\n",
       "      <td>N00E009</td>\n",
       "      <td>https://e4ftl01.cr.usgs.gov/MEASURES/NASADEM_H...</td>\n",
       "      <td>POLYGON ((9.00000 0.00000, 9.00000 1.00000, 10...</td>\n",
       "    </tr>\n",
       "    <tr>\n",
       "      <th>2</th>\n",
       "      <td>N00E010</td>\n",
       "      <td>https://e4ftl01.cr.usgs.gov/MEASURES/NASADEM_H...</td>\n",
       "      <td>POLYGON ((10.00000 0.00000, 10.00000 1.00000, ...</td>\n",
       "    </tr>\n",
       "    <tr>\n",
       "      <th>3</th>\n",
       "      <td>N00E011</td>\n",
       "      <td>https://e4ftl01.cr.usgs.gov/MEASURES/NASADEM_H...</td>\n",
       "      <td>POLYGON ((11.00000 0.00000, 11.00000 1.00000, ...</td>\n",
       "    </tr>\n",
       "    <tr>\n",
       "      <th>4</th>\n",
       "      <td>N00E012</td>\n",
       "      <td>https://e4ftl01.cr.usgs.gov/MEASURES/NASADEM_H...</td>\n",
       "      <td>POLYGON ((12.00000 0.00000, 12.00000 1.00000, ...</td>\n",
       "    </tr>\n",
       "  </tbody>\n",
       "</table>\n",
       "</div>"
      ],
      "text/plain": [
       "   tile_id                                                url  \\\n",
       "0  N00E006  https://e4ftl01.cr.usgs.gov/MEASURES/NASADEM_H...   \n",
       "1  N00E009  https://e4ftl01.cr.usgs.gov/MEASURES/NASADEM_H...   \n",
       "2  N00E010  https://e4ftl01.cr.usgs.gov/MEASURES/NASADEM_H...   \n",
       "3  N00E011  https://e4ftl01.cr.usgs.gov/MEASURES/NASADEM_H...   \n",
       "4  N00E012  https://e4ftl01.cr.usgs.gov/MEASURES/NASADEM_H...   \n",
       "\n",
       "                                            geometry  \n",
       "0  POLYGON ((6.00000 0.00000, 6.00000 1.00000, 7....  \n",
       "1  POLYGON ((9.00000 0.00000, 9.00000 1.00000, 10...  \n",
       "2  POLYGON ((10.00000 0.00000, 10.00000 1.00000, ...  \n",
       "3  POLYGON ((11.00000 0.00000, 11.00000 1.00000, ...  \n",
       "4  POLYGON ((12.00000 0.00000, 12.00000 1.00000, ...  "
      ]
     },
     "execution_count": 8,
     "metadata": {},
     "output_type": "execute_result"
    }
   ],
   "source": [
    "df_nasadem = df_srtm.copy()\n",
    "URL = 'https://e4ftl01.cr.usgs.gov/MEASURES/NASADEM_HGT.001/2000.02.11'\n",
    "df_nasadem['url'] = df_nasadem.tile_id.map(lambda tile_id: f'{URL}/NASADEM_HGT_{tile_id.lower()}.zip')\n",
    "df_nasadem.head()"
   ]
  },
  {
   "cell_type": "code",
   "execution_count": 9,
   "id": "1511de1c",
   "metadata": {
    "ExecuteTime": {
     "end_time": "2022-11-21T22:34:30.168067Z",
     "start_time": "2022-11-21T22:34:26.293603Z"
    }
   },
   "outputs": [],
   "source": [
    "urls = df_nasadem.url.to_list()\n",
    "\n",
    "X, p = read_nasadem(urls[0])"
   ]
  },
  {
   "cell_type": "code",
   "execution_count": 10,
   "id": "2d4202d9",
   "metadata": {
    "ExecuteTime": {
     "end_time": "2022-11-21T22:34:30.708053Z",
     "start_time": "2022-11-21T22:34:30.169965Z"
    }
   },
   "outputs": [
    {
     "data": {
      "text/plain": [
       "<matplotlib.image.AxesImage at 0x1c3b5f610>"
      ]
     },
     "execution_count": 10,
     "metadata": {},
     "output_type": "execute_result"
    },
    {
     "data": {
      "image/png": "[encoded data removed]",
      "text/plain": [
       "<Figure size 432x288 with 1 Axes>"
      ]
     },
     "metadata": {
      "needs_background": "light"
     },
     "output_type": "display_data"
    }
   ],
   "source": [
    "plt.imshow(X)"
   ]
  },
  {
   "cell_type": "code",
   "execution_count": 11,
   "id": "59cf62ab",
   "metadata": {
    "ExecuteTime": {
     "end_time": "2022-11-21T22:34:31.838325Z",
     "start_time": "2022-11-21T22:34:30.709803Z"
    }
   },
   "outputs": [
    {
     "data": {
      "text/plain": [
       "PosixPath('data/nasadem.geojson.zip')"
      ]
     },
     "execution_count": 11,
     "metadata": {},
     "output_type": "execute_result"
    }
   ],
   "source": [
    "to_geojson_gzip(df_nasadem, DATA_PATH/'nasadem.geojson.zip')"
   ]
  },
  {
   "cell_type": "markdown",
   "id": "b0a620b9",
   "metadata": {},
   "source": [
    "# GLO\n",
    "\n",
    "In the past, there was a shapefile that could be accessed, but that is now gone. We go through the buckets."
   ]
  },
  {
   "cell_type": "code",
   "execution_count": 4,
   "id": "08d2f103",
   "metadata": {
    "ExecuteTime": {
     "end_time": "2022-11-21T18:48:48.435806Z",
     "start_time": "2022-11-21T18:48:48.433196Z"
    }
   },
   "outputs": [],
   "source": [
    "## Can update when new year is available\n",
    "# YEAR = '2021'\n",
    "## Currently Only 1 year is available\n",
    "\n",
    "# Change resolution to 30 or 90\n",
    "RES = 90\n",
    "\n",
    "assert(RES in [30, 90])"
   ]
  },
  {
   "cell_type": "code",
   "execution_count": 5,
   "id": "09b7e303",
   "metadata": {
    "ExecuteTime": {
     "end_time": "2022-11-21T18:48:51.475795Z",
     "start_time": "2022-11-21T18:48:49.305809Z"
    }
   },
   "outputs": [
    {
     "data": {
      "text/plain": [
       "[{'Key': 'Copernicus_DSM_COG_30_N00_00_E006_00_DEM/AUXFILES/Copernicus_DSM_30_N00_00_E006_00_ACM.kml',\n",
       "  'LastModified': datetime.datetime(2022, 5, 9, 12, 43, 24, tzinfo=tzutc()),\n",
       "  'ETag': '\"8fad074b0c6d0c80716f694674b90a1e\"',\n",
       "  'Size': 732,\n",
       "  'StorageClass': 'STANDARD'},\n",
       " {'Key': 'Copernicus_DSM_COG_30_N00_00_E006_00_DEM/AUXFILES/Copernicus_DSM_COG_30_N00_00_E006_00_EDM.tif',\n",
       "  'LastModified': datetime.datetime(2022, 5, 9, 12, 43, 24, tzinfo=tzutc()),\n",
       "  'ETag': '\"6b9d5ae5591a9ad5b5da334bbe9cf45e\"',\n",
       "  'Size': 50244,\n",
       "  'StorageClass': 'STANDARD'},\n",
       " {'Key': 'Copernicus_DSM_COG_30_N00_00_E006_00_DEM/AUXFILES/Copernicus_DSM_COG_30_N00_00_E006_00_FLM.tif',\n",
       "  'LastModified': datetime.datetime(2022, 5, 9, 12, 43, 24, tzinfo=tzutc()),\n",
       "  'ETag': '\"d34a617f3c36dde49e998546e2ad423d\"',\n",
       "  'Size': 53031,\n",
       "  'StorageClass': 'STANDARD'},\n",
       " {'Key': 'Copernicus_DSM_COG_30_N00_00_E006_00_DEM/AUXFILES/Copernicus_DSM_COG_30_N00_00_E006_00_HEM.tif',\n",
       "  'LastModified': datetime.datetime(2022, 5, 9, 12, 43, 24, tzinfo=tzutc()),\n",
       "  'ETag': '\"5413c19eec8f19605d579230b83a0f78\"',\n",
       "  'Size': 483015,\n",
       "  'StorageClass': 'STANDARD'},\n",
       " {'Key': 'Copernicus_DSM_COG_30_N00_00_E006_00_DEM/AUXFILES/Copernicus_DSM_COG_30_N00_00_E006_00_WBM.tif',\n",
       "  'LastModified': datetime.datetime(2022, 5, 9, 12, 43, 24, tzinfo=tzutc()),\n",
       "  'ETag': '\"17e0cde30aabb19fbfd9c38dd2924ea0\"',\n",
       "  'Size': 27621,\n",
       "  'StorageClass': 'STANDARD'}]"
      ]
     },
     "execution_count": 5,
     "metadata": {},
     "output_type": "execute_result"
    }
   ],
   "source": [
    "s3client = boto3.client('s3')\n",
    "BUCKET_NAME = f'copernicus-dem-{RES}m'\n",
    "objects = s3client.list_objects(Bucket=BUCKET_NAME)\n",
    "objects['Contents'][:5]"
   ]
  },
  {
   "cell_type": "code",
   "execution_count": 7,
   "id": "2be847ff",
   "metadata": {
    "ExecuteTime": {
     "end_time": "2022-11-21T18:48:58.299909Z",
     "start_time": "2022-11-21T18:48:58.297461Z"
    }
   },
   "outputs": [],
   "source": [
    "paginator = s3client.get_paginator('list_objects_v2')\n",
    "pages = paginator.paginate(Bucket=BUCKET_NAME)"
   ]
  },
  {
   "cell_type": "code",
   "execution_count": 8,
   "id": "c1bfb903",
   "metadata": {
    "ExecuteTime": {
     "end_time": "2022-11-21T18:51:49.915475Z",
     "start_time": "2022-11-21T18:48:59.089467Z"
    }
   },
   "outputs": [
    {
     "name": "stderr",
     "output_type": "stream",
     "text": [
      "424it [02:50,  2.48it/s]\n"
     ]
    },
    {
     "data": {
      "text/plain": [
       "{'Key': 'Copernicus_DSM_COG_30_N00_00_E006_00_DEM/AUXFILES/Copernicus_DSM_30_N00_00_E006_00_ACM.kml',\n",
       " 'LastModified': datetime.datetime(2022, 5, 9, 12, 43, 24, tzinfo=tzutc()),\n",
       " 'ETag': '\"8fad074b0c6d0c80716f694674b90a1e\"',\n",
       " 'Size': 732,\n",
       " 'StorageClass': 'STANDARD'}"
      ]
     },
     "execution_count": 8,
     "metadata": {},
     "output_type": "execute_result"
    }
   ],
   "source": [
    "all_contents = []\n",
    "for page in tqdm(pages):\n",
    "    all_contents.extend(page['Contents'])\n",
    "\n",
    "all_contents[0]"
   ]
  },
  {
   "cell_type": "code",
   "execution_count": 9,
   "id": "45895ac7",
   "metadata": {
    "ExecuteTime": {
     "end_time": "2022-11-21T18:51:50.081428Z",
     "start_time": "2022-11-21T18:51:49.917879Z"
    }
   },
   "outputs": [
    {
     "data": {
      "text/plain": [
       "[{'Key': 'Copernicus_DSM_COG_30_N00_00_E006_00_DEM/Copernicus_DSM_COG_30_N00_00_E006_00_DEM.tif',\n",
       "  'LastModified': datetime.datetime(2022, 5, 9, 12, 43, 24, tzinfo=tzutc()),\n",
       "  'ETag': '\"0c3f5310131359cfa2dfb028bf3510fd\"',\n",
       "  'Size': 490119,\n",
       "  'StorageClass': 'STANDARD'},\n",
       " {'Key': 'Copernicus_DSM_COG_30_N00_00_E009_00_DEM/Copernicus_DSM_COG_30_N00_00_E009_00_DEM.tif',\n",
       "  'LastModified': datetime.datetime(2022, 5, 9, 12, 43, 24, tzinfo=tzutc()),\n",
       "  'ETag': '\"4a63321e22c176df173951a67c79580a\"',\n",
       "  'Size': 3210718,\n",
       "  'StorageClass': 'STANDARD'},\n",
       " {'Key': 'Copernicus_DSM_COG_30_N00_00_E010_00_DEM/Copernicus_DSM_COG_30_N00_00_E010_00_DEM.tif',\n",
       "  'LastModified': datetime.datetime(2022, 5, 9, 12, 43, 24, tzinfo=tzutc()),\n",
       "  'ETag': '\"c577e54674b6ae8abd4b246a25a52936\"',\n",
       "  'Size': 5763057,\n",
       "  'StorageClass': 'STANDARD'}]"
      ]
     },
     "execution_count": 9,
     "metadata": {},
     "output_type": "execute_result"
    }
   ],
   "source": [
    "tif_obs = list(filter(lambda ob: '.tif' in ob['Key'], all_contents))\n",
    "tif_obs = list(filter(lambda ob: ('AUXFILES' not in ob['Key']) and ('PREVIEW' not in ob['Key']), tif_obs))\n",
    "tif_obs[:3]"
   ]
  },
  {
   "cell_type": "code",
   "execution_count": 10,
   "id": "58b19de1",
   "metadata": {
    "ExecuteTime": {
     "end_time": "2022-11-21T18:51:50.086422Z",
     "start_time": "2022-11-21T18:51:50.083020Z"
    }
   },
   "outputs": [
    {
     "data": {
      "text/plain": [
       "26475"
      ]
     },
     "execution_count": 10,
     "metadata": {},
     "output_type": "execute_result"
    }
   ],
   "source": [
    "len(tif_obs)"
   ]
  },
  {
   "cell_type": "code",
   "execution_count": 11,
   "id": "d2da92b5",
   "metadata": {
    "ExecuteTime": {
     "end_time": "2022-11-21T18:51:50.095383Z",
     "start_time": "2022-11-21T18:51:50.089091Z"
    }
   },
   "outputs": [],
   "source": [
    "def get_bbox_glo(tile_id):\n",
    "    tokens = tile_id.split('_')\n",
    "    lat_sign = tokens[4]\n",
    "    lon_sign = tokens[6]\n",
    "    \n",
    "    if lat_sign[0] == 'N':\n",
    "        lat = int(lat_sign[1:])\n",
    "    elif lat_sign[0] == 'S':\n",
    "        lat = -int(lat_sign[1:])\n",
    "    else:\n",
    "        raise ValueError('Latitude token not expected')\n",
    "    \n",
    "    if lon_sign[0] == 'W':\n",
    "        lon = -int(lon_sign[1:])\n",
    "    elif lon_sign[0] == 'E':\n",
    "        lon = int(lon_sign[1:])\n",
    "    else:\n",
    "        raise ValueError('Longitude token not expected')\n",
    "    return box(lon, lat, lon + 1, lat+1)\n",
    "\n",
    "def format_glo(data):\n",
    "    out_data = {}\n",
    "    key = data['Key']\n",
    "    tile_id = key.split('/')[-1].replace('.tif', '')\n",
    "    out_data['tile_id'] = tile_id\n",
    "    out_data['url'] = f'https://copernicus-dem-{RES}m.s3.amazonaws.com/{key}'\n",
    "    out_data['last_modified'] = data['LastModified']\n",
    "    out_data['geometry'] = get_bbox_glo(tile_id)\n",
    "    return out_data"
   ]
  },
  {
   "cell_type": "code",
   "execution_count": 12,
   "id": "5726bcb0",
   "metadata": {
    "ExecuteTime": {
     "end_time": "2022-11-21T18:51:50.427176Z",
     "start_time": "2022-11-21T18:51:50.097200Z"
    }
   },
   "outputs": [
    {
     "data": {
      "text/html": [
       "<div>\n",
       "<style scoped>\n",
       "    .dataframe tbody tr th:only-of-type {\n",
       "        vertical-align: middle;\n",
       "    }\n",
       "\n",
       "    .dataframe tbody tr th {\n",
       "        vertical-align: top;\n",
       "    }\n",
       "\n",
       "    .dataframe thead th {\n",
       "        text-align: right;\n",
       "    }\n",
       "</style>\n",
       "<table border=\"1\" class=\"dataframe\">\n",
       "  <thead>\n",
       "    <tr style=\"text-align: right;\">\n",
       "      <th></th>\n",
       "      <th>tile_id</th>\n",
       "      <th>url</th>\n",
       "      <th>geometry</th>\n",
       "    </tr>\n",
       "  </thead>\n",
       "  <tbody>\n",
       "    <tr>\n",
       "      <th>0</th>\n",
       "      <td>Copernicus_DSM_COG_30_N00_00_E006_00_DEM</td>\n",
       "      <td>https://copernicus-dem-90m.s3.amazonaws.com/Co...</td>\n",
       "      <td>POLYGON ((7.00000 0.00000, 7.00000 1.00000, 6....</td>\n",
       "    </tr>\n",
       "    <tr>\n",
       "      <th>1</th>\n",
       "      <td>Copernicus_DSM_COG_30_N00_00_E009_00_DEM</td>\n",
       "      <td>https://copernicus-dem-90m.s3.amazonaws.com/Co...</td>\n",
       "      <td>POLYGON ((10.00000 0.00000, 10.00000 1.00000, ...</td>\n",
       "    </tr>\n",
       "    <tr>\n",
       "      <th>2</th>\n",
       "      <td>Copernicus_DSM_COG_30_N00_00_E010_00_DEM</td>\n",
       "      <td>https://copernicus-dem-90m.s3.amazonaws.com/Co...</td>\n",
       "      <td>POLYGON ((11.00000 0.00000, 11.00000 1.00000, ...</td>\n",
       "    </tr>\n",
       "    <tr>\n",
       "      <th>3</th>\n",
       "      <td>Copernicus_DSM_COG_30_N00_00_E011_00_DEM</td>\n",
       "      <td>https://copernicus-dem-90m.s3.amazonaws.com/Co...</td>\n",
       "      <td>POLYGON ((12.00000 0.00000, 12.00000 1.00000, ...</td>\n",
       "    </tr>\n",
       "    <tr>\n",
       "      <th>4</th>\n",
       "      <td>Copernicus_DSM_COG_30_N00_00_E012_00_DEM</td>\n",
       "      <td>https://copernicus-dem-90m.s3.amazonaws.com/Co...</td>\n",
       "      <td>POLYGON ((13.00000 0.00000, 13.00000 1.00000, ...</td>\n",
       "    </tr>\n",
       "  </tbody>\n",
       "</table>\n",
       "</div>"
      ],
      "text/plain": [
       "                                    tile_id  \\\n",
       "0  Copernicus_DSM_COG_30_N00_00_E006_00_DEM   \n",
       "1  Copernicus_DSM_COG_30_N00_00_E009_00_DEM   \n",
       "2  Copernicus_DSM_COG_30_N00_00_E010_00_DEM   \n",
       "3  Copernicus_DSM_COG_30_N00_00_E011_00_DEM   \n",
       "4  Copernicus_DSM_COG_30_N00_00_E012_00_DEM   \n",
       "\n",
       "                                                 url  \\\n",
       "0  https://copernicus-dem-90m.s3.amazonaws.com/Co...   \n",
       "1  https://copernicus-dem-90m.s3.amazonaws.com/Co...   \n",
       "2  https://copernicus-dem-90m.s3.amazonaws.com/Co...   \n",
       "3  https://copernicus-dem-90m.s3.amazonaws.com/Co...   \n",
       "4  https://copernicus-dem-90m.s3.amazonaws.com/Co...   \n",
       "\n",
       "                                            geometry  \n",
       "0  POLYGON ((7.00000 0.00000, 7.00000 1.00000, 6....  \n",
       "1  POLYGON ((10.00000 0.00000, 10.00000 1.00000, ...  \n",
       "2  POLYGON ((11.00000 0.00000, 11.00000 1.00000, ...  \n",
       "3  POLYGON ((12.00000 0.00000, 12.00000 1.00000, ...  \n",
       "4  POLYGON ((13.00000 0.00000, 13.00000 1.00000, ...  "
      ]
     },
     "execution_count": 12,
     "metadata": {},
     "output_type": "execute_result"
    }
   ],
   "source": [
    "tile_data = list(map(format_glo, tif_obs))\n",
    "\n",
    "df_glo = pd.DataFrame(tile_data)\n",
    "df_glo = df_glo.sort_values(by=['tile_id', 'last_modified'], ascending=True)\n",
    "df_glo.drop_duplicates(subset='tile_id', keep='last', inplace=True)\n",
    "df_glo = gpd.GeoDataFrame(df_glo, geometry=df_glo.geometry, crs=CRS.from_epsg(4326))\n",
    "df_glo = df_glo[['tile_id', 'url', 'geometry']].copy()\n",
    "df_glo.head()"
   ]
  },
  {
   "cell_type": "code",
   "execution_count": 13,
   "id": "938ed51f",
   "metadata": {
    "ExecuteTime": {
     "end_time": "2022-11-21T18:51:52.523833Z",
     "start_time": "2022-11-21T18:51:50.428979Z"
    }
   },
   "outputs": [
    {
     "data": {
      "text/plain": [
       "PosixPath('data/glo_90.geojson.zip')"
      ]
     },
     "execution_count": 13,
     "metadata": {},
     "output_type": "execute_result"
    }
   ],
   "source": [
    "to_geojson_gzip(df_glo, DATA_PATH/f'glo_{RES}.geojson.zip')"
   ]
  },
  {
   "cell_type": "code",
   "execution_count": 14,
   "id": "ebbf0388",
   "metadata": {
    "ExecuteTime": {
     "end_time": "2022-11-21T18:51:57.062492Z",
     "start_time": "2022-11-21T18:51:52.525685Z"
    }
   },
   "outputs": [
    {
     "data": {
      "text/plain": [
       "{'driver': 'GTiff', 'dtype': 'float32', 'nodata': None, 'width': 1200, 'height': 1200, 'count': 1, 'crs': CRS.from_epsg(4326), 'transform': Affine(0.0008333333333333334, 0.0, 17.999583333333334,\n",
       "       0.0, -0.0008333333333333334, 1.0004166666666667), 'blockxsize': 2048, 'blockysize': 2048, 'tiled': True, 'compress': 'deflate', 'interleave': 'band'}"
      ]
     },
     "execution_count": 14,
     "metadata": {},
     "output_type": "execute_result"
    },
    {
     "data": {
      "image/png": "[encoded data removed]",
      "text/plain": [
       "<Figure size 432x288 with 1 Axes>"
      ]
     },
     "metadata": {
      "needs_background": "light"
     },
     "output_type": "display_data"
    }
   ],
   "source": [
    "urls = df_glo.url.tolist()\n",
    "k = 10\n",
    "\n",
    "with rasterio.open(urls[k]) as ds:\n",
    "    X = ds.read(1)\n",
    "    p = ds.profile\n",
    "plt.imshow(X)\n",
    "p"
   ]
  },
  {
   "cell_type": "markdown",
   "id": "57045da3",
   "metadata": {
    "ExecuteTime": {
     "end_time": "2021-06-02T23:53:00.097929Z",
     "start_time": "2021-06-02T23:53:00.095392Z"
    }
   },
   "source": [
    "# 3dep\n",
    "\n",
    "## Read through S3 Bucket"
   ]
  },
  {
   "cell_type": "code",
   "execution_count": 18,
   "id": "5dcfc693",
   "metadata": {
    "ExecuteTime": {
     "end_time": "2022-02-02T21:28:48.559716Z",
     "start_time": "2022-02-02T21:28:45.318116Z"
    }
   },
   "outputs": [
    {
     "data": {
      "text/plain": [
       "[{'Key': 'StagedProducts/Elevation/1/TIFF/current/n06e162/USGS_1_n06e162.gpkg',\n",
       "  'LastModified': datetime.datetime(2021, 12, 14, 2, 16, 4, tzinfo=tzutc()),\n",
       "  'ETag': '\"c60495b0dcba350365514933a716d586\"',\n",
       "  'Size': 98304,\n",
       "  'StorageClass': 'STANDARD'},\n",
       " {'Key': 'StagedProducts/Elevation/1/TIFF/current/n06e162/USGS_1_n06e162.jpg',\n",
       "  'LastModified': datetime.datetime(2021, 11, 17, 2, 16, 35, tzinfo=tzutc()),\n",
       "  'ETag': '\"3ccc340f6c4664b0183267239f40cf6e\"',\n",
       "  'Size': 969,\n",
       "  'StorageClass': 'STANDARD'},\n",
       " {'Key': 'StagedProducts/Elevation/1/TIFF/current/n06e162/USGS_1_n06e162.tif',\n",
       "  'LastModified': datetime.datetime(2021, 11, 17, 2, 16, 41, tzinfo=tzutc()),\n",
       "  'ETag': '\"90d8ba82df12261245aa09cbbaf22589\"',\n",
       "  'Size': 1542700,\n",
       "  'StorageClass': 'STANDARD'},\n",
       " {'Key': 'StagedProducts/Elevation/1/TIFF/current/n06e162/USGS_1_n06e162.xml',\n",
       "  'LastModified': datetime.datetime(2021, 11, 17, 2, 16, 41, tzinfo=tzutc()),\n",
       "  'ETag': '\"5fe5e0cc9932d4bd9413d1482047977a\"',\n",
       "  'Size': 11221,\n",
       "  'StorageClass': 'STANDARD'},\n",
       " {'Key': 'StagedProducts/Elevation/1/TIFF/current/n06e163/USGS_1_n06e163.gpkg',\n",
       "  'LastModified': datetime.datetime(2021, 12, 14, 2, 16, 4, tzinfo=tzutc()),\n",
       "  'ETag': '\"f33e5ede13fe25c7fb5f774d84d278bc\"',\n",
       "  'Size': 98304,\n",
       "  'StorageClass': 'STANDARD'}]"
      ]
     },
     "execution_count": 18,
     "metadata": {},
     "output_type": "execute_result"
    }
   ],
   "source": [
    "s3client = boto3.client('s3')\n",
    "BUCKET_NAME = 'prd-tnm'\n",
    "objects = s3client.list_objects(Bucket=BUCKET_NAME,\n",
    "                                Prefix='StagedProducts/Elevation/1/TIFF/')\n",
    "objects['Contents'][:5]"
   ]
  },
  {
   "cell_type": "code",
   "execution_count": 19,
   "id": "9952f68f",
   "metadata": {
    "ExecuteTime": {
     "end_time": "2022-02-02T21:28:48.596019Z",
     "start_time": "2022-02-02T21:28:48.561249Z"
    }
   },
   "outputs": [],
   "source": [
    "paginator = s3client.get_paginator('list_objects_v2')\n",
    "pages = paginator.paginate(Bucket=BUCKET_NAME, \n",
    "                           Prefix='StagedProducts/Elevation/1/TIFF/')"
   ]
  },
  {
   "cell_type": "code",
   "execution_count": 20,
   "id": "a799de6f",
   "metadata": {
    "ExecuteTime": {
     "end_time": "2022-02-02T21:29:03.551392Z",
     "start_time": "2022-02-02T21:28:48.597577Z"
    }
   },
   "outputs": [
    {
     "name": "stderr",
     "output_type": "stream",
     "text": [
      "55it [00:14,  3.68it/s]\n"
     ]
    },
    {
     "data": {
      "text/plain": [
       "{'Key': 'StagedProducts/Elevation/1/TIFF/current/n06e162/USGS_1_n06e162.gpkg',\n",
       " 'LastModified': datetime.datetime(2021, 12, 14, 2, 16, 4, tzinfo=tzutc()),\n",
       " 'ETag': '\"c60495b0dcba350365514933a716d586\"',\n",
       " 'Size': 98304,\n",
       " 'StorageClass': 'STANDARD'}"
      ]
     },
     "execution_count": 20,
     "metadata": {},
     "output_type": "execute_result"
    }
   ],
   "source": [
    "all_contents = []\n",
    "for page in tqdm(pages):\n",
    "    all_contents += page['Contents']\n",
    "\n",
    "all_contents[0]"
   ]
  },
  {
   "cell_type": "code",
   "execution_count": 21,
   "id": "5ec0941a",
   "metadata": {
    "ExecuteTime": {
     "end_time": "2022-02-02T21:29:03.569770Z",
     "start_time": "2022-02-02T21:29:03.553226Z"
    }
   },
   "outputs": [
    {
     "data": {
      "text/plain": [
       "[{'Key': 'StagedProducts/Elevation/1/TIFF/current/n06e162/USGS_1_n06e162.tif',\n",
       "  'LastModified': datetime.datetime(2021, 11, 17, 2, 16, 41, tzinfo=tzutc()),\n",
       "  'ETag': '\"90d8ba82df12261245aa09cbbaf22589\"',\n",
       "  'Size': 1542700,\n",
       "  'StorageClass': 'STANDARD'},\n",
       " {'Key': 'StagedProducts/Elevation/1/TIFF/current/n06e163/USGS_1_n06e163.tif',\n",
       "  'LastModified': datetime.datetime(2021, 11, 17, 2, 16, 41, tzinfo=tzutc()),\n",
       "  'ETag': '\"f2799568910a5217bafdcc6f122d5729\"',\n",
       "  'Size': 1253435,\n",
       "  'StorageClass': 'STANDARD'},\n",
       " {'Key': 'StagedProducts/Elevation/1/TIFF/current/n07e134/USGS_1_n07e134.tif',\n",
       "  'LastModified': datetime.datetime(2021, 11, 17, 2, 16, 35, tzinfo=tzutc()),\n",
       "  'ETag': '\"1fbc41c777e38a20b20f5a222439dca2\"',\n",
       "  'Size': 1125374,\n",
       "  'StorageClass': 'STANDARD'}]"
      ]
     },
     "execution_count": 21,
     "metadata": {},
     "output_type": "execute_result"
    }
   ],
   "source": [
    "tif_obs = list(filter(lambda ob: '.tif' in ob['Key'], all_contents))\n",
    "tif_obs[:3]"
   ]
  },
  {
   "cell_type": "code",
   "execution_count": 22,
   "id": "ebf281ad",
   "metadata": {
    "ExecuteTime": {
     "end_time": "2022-02-02T21:29:03.575664Z",
     "start_time": "2022-02-02T21:29:03.571489Z"
    }
   },
   "outputs": [],
   "source": [
    "def get_bbox(tile_id):\n",
    "    lat_sign = tile_id[0]\n",
    "    lat_num = int(tile_id[1:3])\n",
    "    lon_sign = tile_id[3]\n",
    "    lon_num = int(tile_id[4:7])\n",
    "    \n",
    "    assert((lat_sign in ['n', 's']) and (lon_sign in ['e', 'w']))\n",
    "    lon = lon_num if lon_sign == 'e' else -lon_num\n",
    "    lat = lat_num if lat_sign == 'n' else -lat_num\n",
    "    \n",
    "    return box(lon, lat - 1, lon + 1, lat)\n",
    "\n",
    "def format_data(data):\n",
    "    out_data = {}\n",
    "    key = data['Key']\n",
    "    out_data['tile_id'] = key.split('/')[-2]\n",
    "    out_data['url'] = f'https://prd-tnm.s3.amazonaws.com/{key}'\n",
    "    out_data['last_modified'] = data['LastModified']\n",
    "    out_data['geometry'] = get_bbox(out_data['tile_id'])\n",
    "    return out_data"
   ]
  },
  {
   "cell_type": "code",
   "execution_count": 23,
   "id": "8d05a408",
   "metadata": {
    "ExecuteTime": {
     "end_time": "2022-02-02T21:29:03.854848Z",
     "start_time": "2022-02-02T21:29:03.577160Z"
    }
   },
   "outputs": [
    {
     "data": {
      "text/html": [
       "<div>\n",
       "<style scoped>\n",
       "    .dataframe tbody tr th:only-of-type {\n",
       "        vertical-align: middle;\n",
       "    }\n",
       "\n",
       "    .dataframe tbody tr th {\n",
       "        vertical-align: top;\n",
       "    }\n",
       "\n",
       "    .dataframe thead th {\n",
       "        text-align: right;\n",
       "    }\n",
       "</style>\n",
       "<table border=\"1\" class=\"dataframe\">\n",
       "  <thead>\n",
       "    <tr style=\"text-align: right;\">\n",
       "      <th></th>\n",
       "      <th>tile_id</th>\n",
       "      <th>url</th>\n",
       "      <th>geometry</th>\n",
       "    </tr>\n",
       "  </thead>\n",
       "  <tbody>\n",
       "    <tr>\n",
       "      <th>3811</th>\n",
       "      <td>n06e162</td>\n",
       "      <td>https://prd-tnm.s3.amazonaws.com/StagedProduct...</td>\n",
       "      <td>POLYGON ((163.00000 5.00000, 163.00000 6.00000...</td>\n",
       "    </tr>\n",
       "    <tr>\n",
       "      <th>3812</th>\n",
       "      <td>n06e163</td>\n",
       "      <td>https://prd-tnm.s3.amazonaws.com/StagedProduct...</td>\n",
       "      <td>POLYGON ((164.00000 5.00000, 164.00000 6.00000...</td>\n",
       "    </tr>\n",
       "    <tr>\n",
       "      <th>3813</th>\n",
       "      <td>n07e134</td>\n",
       "      <td>https://prd-tnm.s3.amazonaws.com/StagedProduct...</td>\n",
       "      <td>POLYGON ((135.00000 6.00000, 135.00000 7.00000...</td>\n",
       "    </tr>\n",
       "    <tr>\n",
       "      <th>3814</th>\n",
       "      <td>n07e151</td>\n",
       "      <td>https://prd-tnm.s3.amazonaws.com/StagedProduct...</td>\n",
       "      <td>POLYGON ((152.00000 6.00000, 152.00000 7.00000...</td>\n",
       "    </tr>\n",
       "    <tr>\n",
       "      <th>3815</th>\n",
       "      <td>n07e152</td>\n",
       "      <td>https://prd-tnm.s3.amazonaws.com/StagedProduct...</td>\n",
       "      <td>POLYGON ((153.00000 6.00000, 153.00000 7.00000...</td>\n",
       "    </tr>\n",
       "  </tbody>\n",
       "</table>\n",
       "</div>"
      ],
      "text/plain": [
       "      tile_id                                                url  \\\n",
       "3811  n06e162  https://prd-tnm.s3.amazonaws.com/StagedProduct...   \n",
       "3812  n06e163  https://prd-tnm.s3.amazonaws.com/StagedProduct...   \n",
       "3813  n07e134  https://prd-tnm.s3.amazonaws.com/StagedProduct...   \n",
       "3814  n07e151  https://prd-tnm.s3.amazonaws.com/StagedProduct...   \n",
       "3815  n07e152  https://prd-tnm.s3.amazonaws.com/StagedProduct...   \n",
       "\n",
       "                                               geometry  \n",
       "3811  POLYGON ((163.00000 5.00000, 163.00000 6.00000...  \n",
       "3812  POLYGON ((164.00000 5.00000, 164.00000 6.00000...  \n",
       "3813  POLYGON ((135.00000 6.00000, 135.00000 7.00000...  \n",
       "3814  POLYGON ((152.00000 6.00000, 152.00000 7.00000...  \n",
       "3815  POLYGON ((153.00000 6.00000, 153.00000 7.00000...  "
      ]
     },
     "execution_count": 23,
     "metadata": {},
     "output_type": "execute_result"
    }
   ],
   "source": [
    "tile_data = list(map(format_data, tif_obs))\n",
    "\n",
    "df_3dep = pd.DataFrame(tile_data)\n",
    "df_3dep = df_3dep.sort_values(by=['tile_id', 'last_modified'], ascending=True)\n",
    "df_3dep.drop_duplicates(subset='tile_id', keep='last', inplace=True)\n",
    "df_3dep = gpd.GeoDataFrame(df_3dep, geometry=df_3dep.geometry, crs=CRS.from_epsg(4326))\n",
    "df_3dep = df_3dep[['tile_id', 'url', 'geometry']].copy()\n",
    "df_3dep.head()"
   ]
  },
  {
   "cell_type": "code",
   "execution_count": 24,
   "id": "4cbb68d6",
   "metadata": {
    "ExecuteTime": {
     "end_time": "2022-02-02T21:29:03.859955Z",
     "start_time": "2022-02-02T21:29:03.856435Z"
    }
   },
   "outputs": [
    {
     "data": {
      "text/plain": [
       "'https://prd-tnm.s3.amazonaws.com/StagedProducts/Elevation/1/TIFF/historical/n06e162/USGS_1_n06e162_20130911.tif'"
      ]
     },
     "execution_count": 24,
     "metadata": {},
     "output_type": "execute_result"
    }
   ],
   "source": [
    "df_3dep.url.tolist()[0]"
   ]
  },
  {
   "cell_type": "code",
   "execution_count": 25,
   "id": "0fc33968",
   "metadata": {
    "ExecuteTime": {
     "end_time": "2022-02-02T21:29:04.142852Z",
     "start_time": "2022-02-02T21:29:03.861434Z"
    }
   },
   "outputs": [
    {
     "data": {
      "text/plain": [
       "PosixPath('data/3dep.geojson.zip')"
      ]
     },
     "execution_count": 25,
     "metadata": {},
     "output_type": "execute_result"
    }
   ],
   "source": [
    "#df_3dep.to_file('3dep.geojson', driver='GeoJSON')\n",
    "to_geojson_gzip(df_3dep, DATA_PATH/'3dep.geojson.zip')"
   ]
  },
  {
   "cell_type": "markdown",
   "id": "bee86860",
   "metadata": {},
   "source": [
    "# Ned1"
   ]
  },
  {
   "cell_type": "code",
   "execution_count": 26,
   "id": "9ca88567",
   "metadata": {
    "ExecuteTime": {
     "end_time": "2022-02-02T21:29:07.310341Z",
     "start_time": "2022-02-02T21:29:04.144424Z"
    }
   },
   "outputs": [
    {
     "data": {
      "text/plain": [
       "[{'Key': 'StagedProducts/Elevation/1/IMG/Thumbs (2).db',\n",
       "  'LastModified': datetime.datetime(2019, 8, 21, 20, 3, 53, tzinfo=tzutc()),\n",
       "  'ETag': '\"35a3ffdeaa2e01bc650852ba3b148076\"',\n",
       "  'Size': 10240,\n",
       "  'StorageClass': 'STANDARD'},\n",
       " {'Key': 'StagedProducts/Elevation/1/IMG/Thumbs.db',\n",
       "  'LastModified': datetime.datetime(2019, 8, 21, 20, 3, 54, tzinfo=tzutc()),\n",
       "  'ETag': '\"94e7b4e49dd2eaba551bb7f9c3f5fb66\"',\n",
       "  'Size': 15872,\n",
       "  'StorageClass': 'STANDARD'},\n",
       " {'Key': 'StagedProducts/Elevation/1/IMG/USGS_NED_1_n18w066_IMG.zip',\n",
       "  'LastModified': datetime.datetime(2018, 10, 27, 1, 32, 23, tzinfo=tzutc()),\n",
       "  'ETag': '\"afec7651ba529aa7946beaa4bdd55585\"',\n",
       "  'Size': 325350,\n",
       "  'StorageClass': 'STANDARD'},\n",
       " {'Key': 'StagedProducts/Elevation/1/IMG/USGS_NED_1_n18w066_IMG_thumb.jpg',\n",
       "  'LastModified': datetime.datetime(2018, 10, 27, 1, 32, 29, tzinfo=tzutc()),\n",
       "  'ETag': '\"1a5a97eb77835437042e550f70014f63\"',\n",
       "  'Size': 870,\n",
       "  'StorageClass': 'STANDARD'},\n",
       " {'Key': 'StagedProducts/Elevation/1/IMG/USGS_NED_1_n18w067_IMG.zip',\n",
       "  'LastModified': datetime.datetime(2018, 10, 27, 1, 32, 23, tzinfo=tzutc()),\n",
       "  'ETag': '\"fb0273eabf422c0488571586c50f243a\"',\n",
       "  'Size': 2472963,\n",
       "  'StorageClass': 'STANDARD'}]"
      ]
     },
     "execution_count": 26,
     "metadata": {},
     "output_type": "execute_result"
    }
   ],
   "source": [
    "s3client = boto3.client('s3')\n",
    "BUCKET_NAME = 'prd-tnm'\n",
    "objects = s3client.list_objects(Bucket=BUCKET_NAME,\n",
    "                                Prefix='StagedProducts/Elevation/1/IMG/')\n",
    "objects['Contents'][:5]"
   ]
  },
  {
   "cell_type": "code",
   "execution_count": 27,
   "id": "fccb042e",
   "metadata": {
    "ExecuteTime": {
     "end_time": "2022-02-02T21:29:07.314750Z",
     "start_time": "2022-02-02T21:29:07.312020Z"
    }
   },
   "outputs": [],
   "source": [
    "paginator = s3client.get_paginator('list_objects_v2')\n",
    "pages_ned1 = paginator.paginate(Bucket=BUCKET_NAME, \n",
    "                                Prefix='StagedProducts/Elevation/1/IMG/')"
   ]
  },
  {
   "cell_type": "code",
   "execution_count": 28,
   "id": "2cf85b8e",
   "metadata": {
    "ExecuteTime": {
     "end_time": "2022-02-02T21:29:09.648598Z",
     "start_time": "2022-02-02T21:29:07.316455Z"
    }
   },
   "outputs": [
    {
     "name": "stderr",
     "output_type": "stream",
     "text": [
      "9it [00:02,  3.87it/s]\n"
     ]
    },
    {
     "data": {
      "text/plain": [
       "{'Key': 'StagedProducts/Elevation/1/IMG/Thumbs (2).db',\n",
       " 'LastModified': datetime.datetime(2019, 8, 21, 20, 3, 53, tzinfo=tzutc()),\n",
       " 'ETag': '\"35a3ffdeaa2e01bc650852ba3b148076\"',\n",
       " 'Size': 10240,\n",
       " 'StorageClass': 'STANDARD'}"
      ]
     },
     "execution_count": 28,
     "metadata": {},
     "output_type": "execute_result"
    }
   ],
   "source": [
    "all_contents_ned1 = []\n",
    "for page in tqdm(pages_ned1):\n",
    "    all_contents_ned1 += page['Contents']\n",
    "\n",
    "all_contents_ned1[0]"
   ]
  },
  {
   "cell_type": "code",
   "execution_count": 29,
   "id": "ec55411c",
   "metadata": {
    "ExecuteTime": {
     "end_time": "2022-02-02T21:29:09.659311Z",
     "start_time": "2022-02-02T21:29:09.653740Z"
    }
   },
   "outputs": [
    {
     "data": {
      "text/plain": [
       "[{'Key': 'StagedProducts/Elevation/1/IMG/USGS_NED_1_n18w066_IMG.zip',\n",
       "  'LastModified': datetime.datetime(2018, 10, 27, 1, 32, 23, tzinfo=tzutc()),\n",
       "  'ETag': '\"afec7651ba529aa7946beaa4bdd55585\"',\n",
       "  'Size': 325350,\n",
       "  'StorageClass': 'STANDARD'},\n",
       " {'Key': 'StagedProducts/Elevation/1/IMG/USGS_NED_1_n18w067_IMG.zip',\n",
       "  'LastModified': datetime.datetime(2018, 10, 27, 1, 32, 23, tzinfo=tzutc()),\n",
       "  'ETag': '\"fb0273eabf422c0488571586c50f243a\"',\n",
       "  'Size': 2472963,\n",
       "  'StorageClass': 'STANDARD'},\n",
       " {'Key': 'StagedProducts/Elevation/1/IMG/USGS_NED_1_n18w068_IMG.zip',\n",
       "  'LastModified': datetime.datetime(2018, 10, 27, 1, 32, 24, tzinfo=tzutc()),\n",
       "  'ETag': '\"2be372ac1356440c568f671f4ebd5271\"',\n",
       "  'Size': 669595,\n",
       "  'StorageClass': 'STANDARD'}]"
      ]
     },
     "execution_count": 29,
     "metadata": {},
     "output_type": "execute_result"
    }
   ],
   "source": [
    "zip_ob = list(filter(lambda ob: '.zip' in ob['Key'], all_contents_ned1))\n",
    "zip_ob[:3]"
   ]
  },
  {
   "cell_type": "code",
   "execution_count": 30,
   "id": "47446aaf",
   "metadata": {
    "ExecuteTime": {
     "end_time": "2022-02-02T21:29:09.665788Z",
     "start_time": "2022-02-02T21:29:09.660984Z"
    }
   },
   "outputs": [],
   "source": [
    "def get_bbox(tile_id):\n",
    "    lat_sign = tile_id[0]\n",
    "    lat_num = int(tile_id[1:3])\n",
    "    lon_sign = tile_id[3]\n",
    "    lon_num = int(tile_id[4:7])\n",
    "    \n",
    "    assert((lat_sign in ['n', 's']) and (lon_sign in ['e', 'w']))\n",
    "    lon = lon_num if lon_sign == 'e' else -lon_num\n",
    "    lat = lat_num if lat_sign == 'n' else -lat_num\n",
    "    \n",
    "    return box(lon, lat - 1, lon + 1, lat)\n",
    "\n",
    "def format_data(data):\n",
    "    out_data = {}\n",
    "    key = data['Key']\n",
    "    tile_id = key.split('/')[-1]\n",
    "    tile_id_tokens = tile_id.split('_')\n",
    "    tile_id_tokens = list(filter(lambda x: x[0] in ['n', 's'], tile_id_tokens))\n",
    "    assert(len(tile_id_tokens) == 1)\n",
    "    out_data['tile_id'] = tile_id_tokens[0].replace('.zip', '')\n",
    "    out_data['url'] = f'https://prd-tnm.s3.amazonaws.com/{key}'\n",
    "    out_data['last_modified'] = data['LastModified']\n",
    "    out_data['geometry'] = get_bbox(out_data['tile_id'])\n",
    "    return out_data"
   ]
  },
  {
   "cell_type": "code",
   "execution_count": 31,
   "id": "e6397a66",
   "metadata": {
    "ExecuteTime": {
     "end_time": "2022-02-02T21:29:09.736776Z",
     "start_time": "2022-02-02T21:29:09.667330Z"
    }
   },
   "outputs": [
    {
     "data": {
      "text/html": [
       "<div>\n",
       "<style scoped>\n",
       "    .dataframe tbody tr th:only-of-type {\n",
       "        vertical-align: middle;\n",
       "    }\n",
       "\n",
       "    .dataframe tbody tr th {\n",
       "        vertical-align: top;\n",
       "    }\n",
       "\n",
       "    .dataframe thead th {\n",
       "        text-align: right;\n",
       "    }\n",
       "</style>\n",
       "<table border=\"1\" class=\"dataframe\">\n",
       "  <thead>\n",
       "    <tr style=\"text-align: right;\">\n",
       "      <th></th>\n",
       "      <th>tile_id</th>\n",
       "      <th>url</th>\n",
       "      <th>geometry</th>\n",
       "    </tr>\n",
       "  </thead>\n",
       "  <tbody>\n",
       "    <tr>\n",
       "      <th>1017</th>\n",
       "      <td>n06e162</td>\n",
       "      <td>https://prd-tnm.s3.amazonaws.com/StagedProduct...</td>\n",
       "      <td>POLYGON ((163.00000 5.00000, 163.00000 6.00000...</td>\n",
       "    </tr>\n",
       "    <tr>\n",
       "      <th>1018</th>\n",
       "      <td>n06e163</td>\n",
       "      <td>https://prd-tnm.s3.amazonaws.com/StagedProduct...</td>\n",
       "      <td>POLYGON ((164.00000 5.00000, 164.00000 6.00000...</td>\n",
       "    </tr>\n",
       "    <tr>\n",
       "      <th>1019</th>\n",
       "      <td>n07e134</td>\n",
       "      <td>https://prd-tnm.s3.amazonaws.com/StagedProduct...</td>\n",
       "      <td>POLYGON ((135.00000 6.00000, 135.00000 7.00000...</td>\n",
       "    </tr>\n",
       "    <tr>\n",
       "      <th>1020</th>\n",
       "      <td>n07e151</td>\n",
       "      <td>https://prd-tnm.s3.amazonaws.com/StagedProduct...</td>\n",
       "      <td>POLYGON ((152.00000 6.00000, 152.00000 7.00000...</td>\n",
       "    </tr>\n",
       "    <tr>\n",
       "      <th>1021</th>\n",
       "      <td>n07e152</td>\n",
       "      <td>https://prd-tnm.s3.amazonaws.com/StagedProduct...</td>\n",
       "      <td>POLYGON ((153.00000 6.00000, 153.00000 7.00000...</td>\n",
       "    </tr>\n",
       "  </tbody>\n",
       "</table>\n",
       "</div>"
      ],
      "text/plain": [
       "      tile_id                                                url  \\\n",
       "1017  n06e162  https://prd-tnm.s3.amazonaws.com/StagedProduct...   \n",
       "1018  n06e163  https://prd-tnm.s3.amazonaws.com/StagedProduct...   \n",
       "1019  n07e134  https://prd-tnm.s3.amazonaws.com/StagedProduct...   \n",
       "1020  n07e151  https://prd-tnm.s3.amazonaws.com/StagedProduct...   \n",
       "1021  n07e152  https://prd-tnm.s3.amazonaws.com/StagedProduct...   \n",
       "\n",
       "                                               geometry  \n",
       "1017  POLYGON ((163.00000 5.00000, 163.00000 6.00000...  \n",
       "1018  POLYGON ((164.00000 5.00000, 164.00000 6.00000...  \n",
       "1019  POLYGON ((135.00000 6.00000, 135.00000 7.00000...  \n",
       "1020  POLYGON ((152.00000 6.00000, 152.00000 7.00000...  \n",
       "1021  POLYGON ((153.00000 6.00000, 153.00000 7.00000...  "
      ]
     },
     "execution_count": 31,
     "metadata": {},
     "output_type": "execute_result"
    }
   ],
   "source": [
    "tile_data_ned1 = list(map(format_data, zip_ob))\n",
    "\n",
    "df_ned1 = pd.DataFrame(tile_data_ned1)\n",
    "df_ned1 = df_ned1.sort_values(by=['tile_id', 'last_modified'], ascending=True)\n",
    "df_ned1.drop_duplicates(subset='tile_id', keep='last', inplace=True)\n",
    "df_ned1 = gpd.GeoDataFrame(df_ned1, geometry=df_ned1.geometry, crs=CRS.from_epsg(4326))\n",
    "df_ned1 = df_ned1[['tile_id', 'url', 'geometry']].copy()\n",
    "df_ned1.head()"
   ]
  },
  {
   "cell_type": "code",
   "execution_count": 32,
   "id": "b5ac2ede",
   "metadata": {
    "ExecuteTime": {
     "end_time": "2022-02-02T21:29:10.010145Z",
     "start_time": "2022-02-02T21:29:09.738259Z"
    }
   },
   "outputs": [
    {
     "data": {
      "text/plain": [
       "PosixPath('data/ned1.geojson.zip')"
      ]
     },
     "execution_count": 32,
     "metadata": {},
     "output_type": "execute_result"
    }
   ],
   "source": [
    "#df_ned1.to_file('ned1.geojson', driver='GeoJSON')\n",
    "to_geojson_gzip(df_ned1, DATA_PATH/'ned1.geojson.zip')"
   ]
  }
 ],
 "metadata": {
  "kernelspec": {
   "display_name": "dem-stitcher",
   "language": "python",
   "name": "dem-stitcher"
  },
  "language_info": {
   "codemirror_mode": {
    "name": "ipython",
    "version": 3
   },
   "file_extension": ".py",
   "mimetype": "text/x-python",
   "name": "python",
   "nbconvert_exporter": "python",
   "pygments_lexer": "ipython3",
   "version": "3.9.13"
  }
 },
 "nbformat": 4,
 "nbformat_minor": 5
}
