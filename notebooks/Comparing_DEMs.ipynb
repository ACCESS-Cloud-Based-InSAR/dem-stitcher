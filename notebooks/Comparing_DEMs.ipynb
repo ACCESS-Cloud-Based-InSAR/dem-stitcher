{
 "cells": [
  {
   "cell_type": "code",
   "execution_count": 1,
   "id": "allied-private",
   "metadata": {
    "ExecuteTime": {
     "end_time": "2022-11-23T21:01:31.523614Z",
     "start_time": "2022-11-23T21:01:31.503276Z"
    }
   },
   "outputs": [],
   "source": [
    "%load_ext autoreload\n",
    "%autoreload 2"
   ]
  },
  {
   "cell_type": "code",
   "execution_count": 2,
   "id": "russian-short",
   "metadata": {
    "ExecuteTime": {
     "end_time": "2022-11-23T21:01:33.645719Z",
     "start_time": "2022-11-23T21:01:32.622512Z"
    }
   },
   "outputs": [],
   "source": [
    "from dem_stitcher.stitcher import stitch_dem\n",
    "import rasterio\n",
    "from rasterio import plot\n",
    "import matplotlib.pyplot as plt\n",
    "from dem_stitcher.rio_tools import reproject_arr_to_match_profile\n",
    "import numpy as np\n",
    "import pandas as pd\n",
    "import numpy as np"
   ]
  },
  {
   "cell_type": "code",
   "execution_count": 3,
   "id": "thick-lightning",
   "metadata": {
    "ExecuteTime": {
     "end_time": "2022-11-23T21:01:33.674624Z",
     "start_time": "2022-11-23T21:01:33.648194Z"
    }
   },
   "outputs": [],
   "source": [
    "# Odessa Texas\n",
    "bounds = [-103, 31, -101.5, 33] \n",
    "dem_0 = 'glo_30'\n",
    "dem_1 = 'nasadem'\n",
    "ellipsoidal_hgt = True"
   ]
  },
  {
   "cell_type": "markdown",
   "id": "correct-sierra",
   "metadata": {
    "ExecuteTime": {
     "end_time": "2021-06-11T00:14:53.096258Z",
     "start_time": "2021-06-11T00:14:53.074433Z"
    }
   },
   "source": [
    "# Loading the 1st DEM"
   ]
  },
  {
   "cell_type": "code",
   "execution_count": null,
   "id": "advised-fiber",
   "metadata": {
    "ExecuteTime": {
     "start_time": "2022-11-23T21:01:57.045Z"
    }
   },
   "outputs": [
    {
     "name": "stderr",
     "output_type": "stream",
     "text": [
      "Reading glo_30 Datasets: 100%|██| 12/12 [00:16<00:00,  1.37s/it]\n"
     ]
    }
   ],
   "source": [
    "%%time\n",
    "\n",
    "X_0, p_0 = stitch_dem(bounds, \n",
    "                      dem_0, \n",
    "                      # More than 5 workers can cause timeout errors.\n",
    "                      n_threads_downloading=5,\n",
    "                      dst_ellipsoidal_height=ellipsoidal_hgt)\n",
    "p_0"
   ]
  },
  {
   "cell_type": "code",
   "execution_count": null,
   "id": "synthetic-sustainability",
   "metadata": {
    "ExecuteTime": {
     "start_time": "2022-11-23T21:01:59.204Z"
    }
   },
   "outputs": [],
   "source": [
    "# source https://stackoverflow.com/a/70334691\n",
    "fig, ax = plt.subplots()\n",
    "data = plot.show(X_0, transform=p_0['transform'], ax=ax)\n",
    "im = data.get_images()[0]\n",
    "fig.colorbar(im, label='Ellipsoidal Height (m)', ax=ax)"
   ]
  },
  {
   "cell_type": "markdown",
   "id": "objective-commissioner",
   "metadata": {},
   "source": [
    "# Loading the 2nd DEM"
   ]
  },
  {
   "cell_type": "code",
   "execution_count": null,
   "id": "downtown-analyst",
   "metadata": {
    "ExecuteTime": {
     "start_time": "2022-11-23T21:02:00.652Z"
    }
   },
   "outputs": [],
   "source": [
    "%%time\n",
    "\n",
    "X_1, p_1 = stitch_dem(bounds, \n",
    "                      dem_1, \n",
    "                      # More than 5 workers can cause timeout errors.\n",
    "                      max_workers=5,\n",
    "                      dst_ellipsoidal_height=ellipsoidal_hgt)\n",
    "p_1"
   ]
  },
  {
   "cell_type": "markdown",
   "id": "established-companion",
   "metadata": {},
   "source": [
    "# Comparison\n",
    "\n",
    "We first have to reproject the two DEMs into the same frame; although they were called using the same bounds, dem-stitcher aligns to |the original pixel resolution."
   ]
  },
  {
   "cell_type": "code",
   "execution_count": null,
   "id": "atomic-workplace",
   "metadata": {
    "ExecuteTime": {
     "start_time": "2022-11-23T21:02:01.924Z"
    }
   },
   "outputs": [],
   "source": [
    "X_1_r, _ = reproject_arr_to_match_profile(X_1, p_1, p_0, resampling='bilinear')\n",
    "X_1_r = X_1_r[0, ...]"
   ]
  },
  {
   "cell_type": "markdown",
   "id": "promotional-broadcast",
   "metadata": {},
   "source": [
    "We get the qualitative statistics of the difference of the two DEMs."
   ]
  },
  {
   "cell_type": "code",
   "execution_count": null,
   "id": "constant-hollywood",
   "metadata": {
    "ExecuteTime": {
     "start_time": "2022-11-23T21:02:03.148Z"
    }
   },
   "outputs": [],
   "source": [
    "diff = (X_0 - X_1_r)\n",
    "diff_r = diff[~np.isnan(diff)]\n",
    "plt.hist(diff_r, bins=50, range=(-10, 10))\n",
    "plt.xlabel(f'{dem_1} - {dem_0} (m)')"
   ]
  },
  {
   "cell_type": "code",
   "execution_count": null,
   "id": "noble-translator",
   "metadata": {
    "ExecuteTime": {
     "start_time": "2022-11-23T21:02:03.653Z"
    }
   },
   "outputs": [],
   "source": [
    "df = pd.DataFrame({'diff': diff_r})\n",
    "df['diff_cm'] = np.round(df['diff'] * 100, 3)\n",
    "df.drop(columns=['diff'], inplace=True)\n",
    "df.describe()"
   ]
  },
  {
   "cell_type": "code",
   "execution_count": null,
   "id": "executive-librarian",
   "metadata": {
    "ExecuteTime": {
     "start_time": "2022-11-23T21:02:04.076Z"
    }
   },
   "outputs": [],
   "source": [
    "fig, ax = plt.subplots()\n",
    "data = plot.show(diff, transform=p_0['transform'], ax=ax, vmin=-10, vmax=10)\n",
    "im = data.get_images()[0]\n",
    "fig.colorbar(im, label='Ellipsoidal Height (m)', ax=ax)"
   ]
  }
 ],
 "metadata": {
  "kernelspec": {
   "display_name": "dem-stitcher",
   "language": "python",
   "name": "dem-stitcher"
  },
  "language_info": {
   "codemirror_mode": {
    "name": "ipython",
    "version": 3
   },
   "file_extension": ".py",
   "mimetype": "text/x-python",
   "name": "python",
   "nbconvert_exporter": "python",
   "pygments_lexer": "ipython3",
   "version": "3.11.0"
  }
 },
 "nbformat": 4,
 "nbformat_minor": 5
}
