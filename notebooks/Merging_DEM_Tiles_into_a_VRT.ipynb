{
 "cells": [
  {
   "cell_type": "markdown",
   "id": "a43a588c",
   "metadata": {},
   "source": [
    "This shows how to merge (source) DEM tiles using the subroutine `get_dem_tile_paths` and then into a VRT using [`gdal.BuildVRT`](https://gis.stackexchange.com/a/314580). This can be completed localizing the data, or if urls point to geotiff files as is the case with `glo_30`, using the urls directly. Because `stitch_dem` places all rasters in memory, `stitch_dem` is not applicable to larger areas e.g. across the continental United States. `get_dem_tile_paths`  allows for handling the tiles directly without transformations.\n",
    "\n",
    "**Note**: `get_dem_tile_paths` demonstration below does not perform any transformations e.g. conversion from geoid to ellipsoidal height. Such tile transformations are in the domain of `stitch_dem`, but can be adapted to the tiles directly using various functions in this library.\n",
    "\n",
    "**Warning**: `get_dem_tile_paths` does not perform any dateline wrapping/unwrapping of the rasters. However, the function does wrap the extent and returns all tile paths colocated in an input extent. Thus, if an extent passes across the dateline, then it will get tiles at opposite hemispheres. In order to format into a contiguous raster, the tiles will require translation of their geotransform. This wrapping/unwrapping of the rasters is done automatically in `stitch_dem`."
   ]
  },
  {
   "cell_type": "code",
   "execution_count": 1,
   "id": "000d2379",
   "metadata": {
    "ExecuteTime": {
     "end_time": "2023-03-23T22:43:17.266553Z",
     "start_time": "2023-03-23T22:43:17.240949Z"
    }
   },
   "outputs": [],
   "source": [
    "%load_ext autoreload\n",
    "%autoreload 2"
   ]
  },
  {
   "cell_type": "code",
   "execution_count": 2,
   "id": "5733d6f1",
   "metadata": {
    "ExecuteTime": {
     "end_time": "2023-03-23T22:43:18.530721Z",
     "start_time": "2023-03-23T22:43:17.736621Z"
    }
   },
   "outputs": [],
   "source": [
    "from dem_stitcher.stitcher import get_dem_tile_paths, get_overlapping_dem_tiles\n",
    "from osgeo import gdal\n",
    "import rasterio"
   ]
  },
  {
   "cell_type": "code",
   "execution_count": 3,
   "id": "269a058f",
   "metadata": {
    "ExecuteTime": {
     "end_time": "2023-03-23T22:43:19.121189Z",
     "start_time": "2023-03-23T22:43:19.088647Z"
    }
   },
   "outputs": [],
   "source": [
    "dem_name = 'glo_30'"
   ]
  },
  {
   "cell_type": "markdown",
   "id": "40c3acbb",
   "metadata": {},
   "source": [
    "There is an option to localize the data."
   ]
  },
  {
   "cell_type": "code",
   "execution_count": 4,
   "id": "ba77a6e4",
   "metadata": {
    "ExecuteTime": {
     "end_time": "2023-03-23T22:43:29.127436Z",
     "start_time": "2023-03-23T22:43:28.185051Z"
    }
   },
   "outputs": [
    {
     "data": {
      "text/plain": [
       "['https://copernicus-dem-30m.s3.amazonaws.com/Copernicus_DSM_COG_10_N34_00_W121_00_DEM/Copernicus_DSM_COG_10_N34_00_W121_00_DEM.tif',\n",
       " 'https://copernicus-dem-30m.s3.amazonaws.com/Copernicus_DSM_COG_10_N35_00_W121_00_DEM/Copernicus_DSM_COG_10_N35_00_W121_00_DEM.tif',\n",
       " 'https://copernicus-dem-30m.s3.amazonaws.com/Copernicus_DSM_COG_10_N35_00_W122_00_DEM/Copernicus_DSM_COG_10_N35_00_W122_00_DEM.tif',\n",
       " 'https://copernicus-dem-30m.s3.amazonaws.com/Copernicus_DSM_COG_10_N36_00_W121_00_DEM/Copernicus_DSM_COG_10_N36_00_W121_00_DEM.tif',\n",
       " 'https://copernicus-dem-30m.s3.amazonaws.com/Copernicus_DSM_COG_10_N36_00_W122_00_DEM/Copernicus_DSM_COG_10_N36_00_W122_00_DEM.tif']"
      ]
     },
     "execution_count": 4,
     "metadata": {},
     "output_type": "execute_result"
    }
   ],
   "source": [
    "dem_tile_paths = get_dem_tile_paths(bounds = [-121.5, 34.95, -120.2, 36.25], \n",
    "                                    dem_name=dem_name, \n",
    "                                    localize_tiles_to_gtiff=(False if dem_name == 'glo_30' else True), \n",
    "                                    tile_dir=f'{dem_name}_tiles')\n",
    "dem_tile_paths"
   ]
  },
  {
   "cell_type": "code",
   "execution_count": 5,
   "id": "f4848969",
   "metadata": {
    "ExecuteTime": {
     "end_time": "2023-03-23T22:43:29.512774Z",
     "start_time": "2023-03-23T22:43:29.480529Z"
    }
   },
   "outputs": [],
   "source": [
    "vrt_path = f'{dem_name}.vrt'"
   ]
  },
  {
   "cell_type": "code",
   "execution_count": 6,
   "id": "3d642224",
   "metadata": {
    "ExecuteTime": {
     "end_time": "2023-03-23T22:44:39.119320Z",
     "start_time": "2023-03-23T22:43:29.984396Z"
    }
   },
   "outputs": [],
   "source": [
    "ds = gdal.BuildVRT(vrt_path, dem_tile_paths)\n",
    "ds = None"
   ]
  },
  {
   "cell_type": "markdown",
   "id": "fc3072c4",
   "metadata": {},
   "source": [
    "Note the bounds contain the original requested area (as the tiles cover the entire area)."
   ]
  },
  {
   "cell_type": "code",
   "execution_count": 7,
   "id": "03cdc596",
   "metadata": {
    "ExecuteTime": {
     "end_time": "2023-03-23T22:44:39.156299Z",
     "start_time": "2023-03-23T22:44:39.121310Z"
    }
   },
   "outputs": [
    {
     "data": {
      "text/plain": [
       "BoundingBox(left=-122.00013888888888, bottom=34.00013888888889, right=-120.00013888888888, top=37.00013888888889)"
      ]
     },
     "execution_count": 7,
     "metadata": {},
     "output_type": "execute_result"
    }
   ],
   "source": [
    "with rasterio.open(vrt_path) as ds:\n",
    "    bounds = ds.bounds\n",
    "bounds"
   ]
  }
 ],
 "metadata": {
  "kernelspec": {
   "display_name": "dem-stitcher",
   "language": "python",
   "name": "dem-stitcher"
  },
  "language_info": {
   "codemirror_mode": {
    "name": "ipython",
    "version": 3
   },
   "file_extension": ".py",
   "mimetype": "text/x-python",
   "name": "python",
   "nbconvert_exporter": "python",
   "pygments_lexer": "ipython3",
   "version": "3.11.0"
  }
 },
 "nbformat": 4,
 "nbformat_minor": 5
}
