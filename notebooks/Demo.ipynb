{
 "cells": [
  {
   "cell_type": "code",
   "execution_count": 1,
   "id": "difficult-rehabilitation",
   "metadata": {
    "ExecuteTime": {
     "end_time": "2021-06-22T22:17:24.094573Z",
     "start_time": "2021-06-22T22:17:24.077957Z"
    }
   },
   "outputs": [],
   "source": [
    "%load_ext autoreload\n",
    "%autoreload 2"
   ]
  },
  {
   "cell_type": "code",
   "execution_count": 2,
   "id": "ranking-pioneer",
   "metadata": {
    "ExecuteTime": {
     "end_time": "2021-06-22T22:17:24.873930Z",
     "start_time": "2021-06-22T22:17:24.096187Z"
    }
   },
   "outputs": [],
   "source": [
    "from dem_stitcher.stitcher import download_dem\n",
    "import rasterio\n",
    "import matplotlib.pyplot as plt\n",
    "from dem_stitcher.rio_tools import reproject_arr_to_match_profile\n",
    "from pathlib import Path\n",
    "from dem_stitcher.rio_tools import crop_profile_from_coord_bounds\n",
    "from dem_stitcher.stitcher import merge_tiles\n",
    "from rasterio import default_gtiff_profile\n",
    "import numpy as np"
   ]
  },
  {
   "cell_type": "code",
   "execution_count": 3,
   "id": "variable-equivalent",
   "metadata": {
    "ExecuteTime": {
     "end_time": "2021-06-22T22:17:24.895274Z",
     "start_time": "2021-06-22T22:17:24.875986Z"
    }
   },
   "outputs": [],
   "source": [
    "site = 'aleutian' # 'bay_area' or 'aleutian'\n",
    "dem_0 = 'srtm_v3' # 'ned1' #'tdx_30'\n",
    "dem_1 = 'tdx_30' # 'ned1'\n",
    "save_raw_tiles = True"
   ]
  },
  {
   "cell_type": "code",
   "execution_count": 4,
   "id": "stylish-concentration",
   "metadata": {
    "ExecuteTime": {
     "end_time": "2021-06-22T22:17:24.919886Z",
     "start_time": "2021-06-22T22:17:24.898999Z"
    }
   },
   "outputs": [],
   "source": [
    "if site == 'bay_area':\n",
    "    bounds = [-121.5, 34.95, -120.2, 36.25]\n",
    "elif site == 'aleutian':\n",
    "    bounds = [-170, 51, -160, 56]\n",
    "else:\n",
    "    raise ValueError('Site not valid')"
   ]
  },
  {
   "cell_type": "markdown",
   "id": "golden-donna",
   "metadata": {
    "ExecuteTime": {
     "end_time": "2021-06-11T00:14:53.096258Z",
     "start_time": "2021-06-11T00:14:53.074433Z"
    }
   },
   "source": [
    "# dem_0"
   ]
  },
  {
   "cell_type": "code",
   "execution_count": 7,
   "id": "prescribed-course",
   "metadata": {
    "ExecuteTime": {
     "end_time": "2021-06-22T22:19:25.893617Z",
     "start_time": "2021-06-22T22:18:04.946255Z"
    }
   },
   "outputs": [
    {
     "name": "stderr",
     "output_type": "stream",
     "text": [
      "Downloading srtm_v3 tiles: 100%|██████████| 24/24 [00:26<00:00,  1.12s/it]\n"
     ]
    },
    {
     "name": "stdout",
     "output_type": "stream",
     "text": [
      "CPU times: user 50.1 s, sys: 12.5 s, total: 1min 2s\n",
      "Wall time: 1min 20s\n"
     ]
    },
    {
     "data": {
      "text/plain": [
       "PosixPath('sample_srtm_v3_aleutian/srtm_v3.dem.wgs84')"
      ]
     },
     "execution_count": 7,
     "metadata": {},
     "output_type": "execute_result"
    }
   ],
   "source": [
    "%%time\n",
    "\n",
    "vrt_path_0 = download_dem(bounds, \n",
    "                          dem_0, \n",
    "                          f'sample_{dem_0}_{site}',\n",
    "                          save_raw_tiles=save_raw_tiles,\n",
    "                          # More than 5 can cause timeout errors.\n",
    "                          max_workers=5)\n",
    "vrt_path_0"
   ]
  },
  {
   "cell_type": "code",
   "execution_count": 8,
   "id": "worst-islam",
   "metadata": {
    "ExecuteTime": {
     "end_time": "2021-06-22T22:19:57.912162Z",
     "start_time": "2021-06-22T22:19:25.895203Z"
    }
   },
   "outputs": [
    {
     "name": "stdout",
     "output_type": "stream",
     "text": [
      "BoundingBox(left=-170.00041666666667, bottom=50.99986111111111, right=-159.9998611111111, top=56.000416666666666)\n"
     ]
    },
    {
     "data": {
      "text/plain": [
       "<matplotlib.colorbar.Colorbar at 0x7fe5500eafd0>"
      ]
     },
     "execution_count": 8,
     "metadata": {},
     "output_type": "execute_result"
    },
    {
     "data": {
      "image/png": "[encoded data removed]",
      "text/plain": [
       "<Figure size 432x288 with 2 Axes>"
      ]
     },
     "metadata": {
      "needs_background": "light"
     },
     "output_type": "display_data"
    }
   ],
   "source": [
    "with rasterio.open(vrt_path_0) as ds:\n",
    "    print(ds.bounds)\n",
    "    X_0 = ds.read(1)\n",
    "    p_0 = ds.profile\n",
    "    \n",
    "plt.imshow(X_0)\n",
    "plt.colorbar()"
   ]
  },
  {
   "cell_type": "code",
   "execution_count": 9,
   "id": "baking-engineer",
   "metadata": {
    "ExecuteTime": {
     "end_time": "2021-06-22T22:19:57.939081Z",
     "start_time": "2021-06-22T22:19:57.914137Z"
    }
   },
   "outputs": [
    {
     "data": {
      "text/plain": [
       "{'driver': 'VRT', 'dtype': 'float32', 'nodata': nan, 'width': 36002, 'height': 18002, 'count': 1, 'crs': CRS.from_epsg(4326), 'transform': Affine(0.0002777777777777778, 0.0, -170.00041666666667,\n",
       "       0.0, -0.0002777777777777778, 56.000416666666666), 'blockxsize': 128, 'blockysize': 128, 'tiled': True}"
      ]
     },
     "execution_count": 9,
     "metadata": {},
     "output_type": "execute_result"
    }
   ],
   "source": [
    "p_0"
   ]
  },
  {
   "cell_type": "markdown",
   "id": "formal-mortality",
   "metadata": {},
   "source": [
    "# dem_1"
   ]
  },
  {
   "cell_type": "code",
   "execution_count": 10,
   "id": "competent-campus",
   "metadata": {
    "ExecuteTime": {
     "end_time": "2021-06-22T22:21:30.587924Z",
     "start_time": "2021-06-22T22:19:57.941366Z"
    }
   },
   "outputs": [
    {
     "name": "stderr",
     "output_type": "stream",
     "text": [
      "/Users/cmarshak/bekaert-team/dem-stitcher/dem_stitcher/stitcher.py:119: UserWarning: sample_tdx_30_aleutian exists; data will be overwritten\n",
      "  # Get tiles to download\n",
      "Downloading tdx_30 tiles: 100%|██████████| 66/66 [00:54<00:00,  1.20it/s]\n"
     ]
    },
    {
     "name": "stdout",
     "output_type": "stream",
     "text": [
      "CPU times: user 48.3 s, sys: 6.87 s, total: 55.1 s\n",
      "Wall time: 1min 32s\n"
     ]
    },
    {
     "data": {
      "text/plain": [
       "PosixPath('sample_tdx_30_aleutian/tdx_30.dem.wgs84')"
      ]
     },
     "execution_count": 10,
     "metadata": {},
     "output_type": "execute_result"
    }
   ],
   "source": [
    "%%time\n",
    "\n",
    "vrt_path_1 = download_dem(bounds, \n",
    "                          dem_1, \n",
    "                          f'sample_{dem_1}_{site}',\n",
    "                          save_raw_tiles=save_raw_tiles,\n",
    "                          max_workers=5)\n",
    "vrt_path_1"
   ]
  },
  {
   "cell_type": "code",
   "execution_count": 11,
   "id": "comfortable-skill",
   "metadata": {
    "ExecuteTime": {
     "end_time": "2021-06-22T22:21:52.422617Z",
     "start_time": "2021-06-22T22:21:30.589082Z"
    }
   },
   "outputs": [
    {
     "data": {
      "text/plain": [
       "<matplotlib.colorbar.Colorbar at 0x7fe275123940>"
      ]
     },
     "execution_count": 11,
     "metadata": {},
     "output_type": "execute_result"
    },
    {
     "data": {
      "image/png": "[encoded data removed]",
      "text/plain": [
       "<Figure size 432x288 with 2 Axes>"
      ]
     },
     "metadata": {
      "needs_background": "light"
     },
     "output_type": "display_data"
    }
   ],
   "source": [
    "with rasterio.open(vrt_path_1) as ds:\n",
    "    X_1 = ds.read(1)\n",
    "    p_1 = ds.profile\n",
    "    \n",
    "plt.imshow(X_1)\n",
    "plt.colorbar()"
   ]
  },
  {
   "cell_type": "code",
   "execution_count": 12,
   "id": "latest-flour",
   "metadata": {
    "ExecuteTime": {
     "end_time": "2021-06-22T22:21:52.446368Z",
     "start_time": "2021-06-22T22:21:52.424248Z"
    }
   },
   "outputs": [
    {
     "data": {
      "text/plain": [
       "{'driver': 'VRT', 'dtype': 'float32', 'nodata': nan, 'width': 24002, 'height': 18002, 'count': 1, 'crs': CRS.from_epsg(4326), 'transform': Affine(0.00041666666666666664, 0.0, -170.000625,\n",
       "       0.0, -0.0002777777777777778, 56.000416666666666), 'blockxsize': 128, 'blockysize': 128, 'tiled': True}"
      ]
     },
     "execution_count": 12,
     "metadata": {},
     "output_type": "execute_result"
    }
   ],
   "source": [
    "p_1"
   ]
  },
  {
   "cell_type": "markdown",
   "id": "finished-overhead",
   "metadata": {},
   "source": [
    "# Comparison"
   ]
  },
  {
   "cell_type": "code",
   "execution_count": 13,
   "id": "suitable-humanity",
   "metadata": {
    "ExecuteTime": {
     "end_time": "2021-06-22T22:22:40.024679Z",
     "start_time": "2021-06-22T22:21:52.447898Z"
    }
   },
   "outputs": [],
   "source": [
    "X_1_r, _ = reproject_arr_to_match_profile(X_1, p_1, p_0)\n",
    "X_1_r = X_1_r[0, ...]"
   ]
  },
  {
   "cell_type": "code",
   "execution_count": 14,
   "id": "congressional-standing",
   "metadata": {
    "ExecuteTime": {
     "end_time": "2021-06-22T22:22:45.252047Z",
     "start_time": "2021-06-22T22:22:40.027479Z"
    }
   },
   "outputs": [
    {
     "data": {
      "text/plain": [
       "Text(0.5, 0, 'tdx_30 - srtm_v3 (m)')"
      ]
     },
     "execution_count": 14,
     "metadata": {},
     "output_type": "execute_result"
    },
    {
     "data": {
      "image/png": "[encoded data removed]",
      "text/plain": [
       "<Figure size 432x288 with 1 Axes>"
      ]
     },
     "metadata": {
      "needs_background": "light"
     },
     "output_type": "display_data"
    }
   ],
   "source": [
    "diff = (X_1_r - X_0)\n",
    "diff_r = diff[~np.isnan(diff)]\n",
    "plt.hist(diff_r)\n",
    "plt.xlabel(f'{dem_1} - {dem_0} (m)')"
   ]
  },
  {
   "cell_type": "code",
   "execution_count": 15,
   "id": "hungry-hindu",
   "metadata": {
    "ExecuteTime": {
     "end_time": "2021-06-22T22:22:53.364047Z",
     "start_time": "2021-06-22T22:22:45.253822Z"
    }
   },
   "outputs": [
    {
     "name": "stdout",
     "output_type": "stream",
     "text": [
      "Percent less than 50.0 cm:  0.850061497462357\n",
      "these are the stats of the differences\n"
     ]
    },
    {
     "data": {
      "text/plain": [
       "DescribeResult(nobs=187218220, minmax=(-0.49999952, 0.4999962), mean=-0.0011493842, variance=0.0016801141, skewness=-2.415688991546631, kurtosis=86.33665792877781)"
      ]
     },
     "execution_count": 15,
     "metadata": {},
     "output_type": "execute_result"
    }
   ],
   "source": [
    "import scipy.stats as stats\n",
    "import numpy as np\n",
    "\n",
    "diff_r_ = diff_r.copy()\n",
    "T = .5\n",
    "\n",
    "diff_r_ = diff_r_[np.abs(diff_r_) < T]\n",
    "percent_small = np.sum((np.abs(diff_r_) < T)) / len(diff_r)\n",
    "print(f'Percent less than {T*100} cm: ', percent_small)\n",
    "print('these are the stats of the differences')\n",
    "stats.describe(diff_r_)"
   ]
  },
  {
   "cell_type": "code",
   "execution_count": 16,
   "id": "miniature-channel",
   "metadata": {
    "ExecuteTime": {
     "end_time": "2021-06-22T22:23:00.825659Z",
     "start_time": "2021-06-22T22:22:53.365607Z"
    }
   },
   "outputs": [
    {
     "data": {
      "text/plain": [
       "DescribeResult(nobs=220240795, minmax=(-328.55188, 583.90753), mean=-0.37914225, variance=5.9546275, skewness=4.063015460968018, kurtosis=1628.6283024082397)"
      ]
     },
     "execution_count": 16,
     "metadata": {},
     "output_type": "execute_result"
    }
   ],
   "source": [
    "stats.describe(diff_r[~np.isnan(diff_r)])"
   ]
  },
  {
   "cell_type": "code",
   "execution_count": 17,
   "id": "northern-correlation",
   "metadata": {
    "ExecuteTime": {
     "end_time": "2021-06-22T22:23:22.481078Z",
     "start_time": "2021-06-22T22:23:00.827229Z"
    }
   },
   "outputs": [
    {
     "data": {
      "text/plain": [
       "<matplotlib.colorbar.Colorbar at 0x7fe5605ad970>"
      ]
     },
     "execution_count": 17,
     "metadata": {},
     "output_type": "execute_result"
    },
    {
     "data": {
      "image/png": "[encoded data removed]",
      "text/plain": [
       "<Figure size 720x720 with 2 Axes>"
      ]
     },
     "metadata": {
      "needs_background": "light"
     },
     "output_type": "display_data"
    }
   ],
   "source": [
    "plt.figure(figsize=(10, 10))\n",
    "plt.imshow(diff, vmin=-10, vmax=10)\n",
    "plt.colorbar(label=f'{dem_1} - {dem_0} (m)')"
   ]
  }
 ],
 "metadata": {
  "kernelspec": {
   "display_name": "dem_stitcher",
   "language": "python",
   "name": "dem_stitcher"
  },
  "language_info": {
   "codemirror_mode": {
    "name": "ipython",
    "version": 3
   },
   "file_extension": ".py",
   "mimetype": "text/x-python",
   "name": "python",
   "nbconvert_exporter": "python",
   "pygments_lexer": "ipython3",
   "version": "3.8.10"
  }
 },
 "nbformat": 4,
 "nbformat_minor": 5
}
