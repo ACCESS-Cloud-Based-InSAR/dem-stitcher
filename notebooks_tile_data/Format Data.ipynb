{
 "cells": [
  {
   "cell_type": "code",
   "execution_count": 1,
   "id": "private-visitor",
   "metadata": {
    "ExecuteTime": {
     "end_time": "2021-06-22T18:32:35.808255Z",
     "start_time": "2021-06-22T18:32:34.980801Z"
    }
   },
   "outputs": [],
   "source": [
    "import geopandas as gpd\n",
    "import rasterio\n",
    "from shapely.geometry import box, Point\n",
    "import numpy as np\n",
    "import pandas as pd\n",
    "import matplotlib.pyplot as plt\n",
    "from pathlib import Path\n",
    "from itertools import starmap\n",
    "import requests\n",
    "import zipfile\n",
    "import io\n",
    "import boto3\n",
    "from tqdm import tqdm\n",
    "from rasterio.crs import CRS\n",
    "\n",
    "from dem_stitcher.geojson_io import to_geojson_gzip\n",
    "from dem_stitcher.datasets import DATA_PATH\n",
    "from dem_stitcher.dem_readers import read_srtm"
   ]
  },
  {
   "cell_type": "markdown",
   "id": "premium-hostel",
   "metadata": {},
   "source": [
    "# SRTM\n",
    "\n",
    "From here: https://figshare.com/articles/dataset/Vector_grid_of_SRTM_1x1_degree_tiles/1332753"
   ]
  },
  {
   "cell_type": "code",
   "execution_count": 2,
   "id": "dried-moore",
   "metadata": {
    "ExecuteTime": {
     "end_time": "2021-06-22T18:32:38.406001Z",
     "start_time": "2021-06-22T18:32:35.810008Z"
    }
   },
   "outputs": [
    {
     "data": {
      "text/html": [
       "<div>\n",
       "<style scoped>\n",
       "    .dataframe tbody tr th:only-of-type {\n",
       "        vertical-align: middle;\n",
       "    }\n",
       "\n",
       "    .dataframe tbody tr th {\n",
       "        vertical-align: top;\n",
       "    }\n",
       "\n",
       "    .dataframe thead th {\n",
       "        text-align: right;\n",
       "    }\n",
       "</style>\n",
       "<table border=\"1\" class=\"dataframe\">\n",
       "  <thead>\n",
       "    <tr style=\"text-align: right;\">\n",
       "      <th></th>\n",
       "      <th>id</th>\n",
       "      <th>geometry</th>\n",
       "    </tr>\n",
       "  </thead>\n",
       "  <tbody>\n",
       "    <tr>\n",
       "      <th>0</th>\n",
       "      <td>N00E006</td>\n",
       "      <td>POLYGON ((6.00000 0.00000, 6.00000 1.00000, 7....</td>\n",
       "    </tr>\n",
       "    <tr>\n",
       "      <th>1</th>\n",
       "      <td>N00E009</td>\n",
       "      <td>POLYGON ((9.00000 0.00000, 9.00000 1.00000, 10...</td>\n",
       "    </tr>\n",
       "    <tr>\n",
       "      <th>2</th>\n",
       "      <td>N00E010</td>\n",
       "      <td>POLYGON ((10.00000 0.00000, 10.00000 1.00000, ...</td>\n",
       "    </tr>\n",
       "    <tr>\n",
       "      <th>3</th>\n",
       "      <td>N00E011</td>\n",
       "      <td>POLYGON ((11.00000 0.00000, 11.00000 1.00000, ...</td>\n",
       "    </tr>\n",
       "    <tr>\n",
       "      <th>4</th>\n",
       "      <td>N00E012</td>\n",
       "      <td>POLYGON ((12.00000 0.00000, 12.00000 1.00000, ...</td>\n",
       "    </tr>\n",
       "  </tbody>\n",
       "</table>\n",
       "</div>"
      ],
      "text/plain": [
       "        id                                           geometry\n",
       "0  N00E006  POLYGON ((6.00000 0.00000, 6.00000 1.00000, 7....\n",
       "1  N00E009  POLYGON ((9.00000 0.00000, 9.00000 1.00000, 10...\n",
       "2  N00E010  POLYGON ((10.00000 0.00000, 10.00000 1.00000, ...\n",
       "3  N00E011  POLYGON ((11.00000 0.00000, 11.00000 1.00000, ...\n",
       "4  N00E012  POLYGON ((12.00000 0.00000, 12.00000 1.00000, ..."
      ]
     },
     "execution_count": 2,
     "metadata": {},
     "output_type": "execute_result"
    }
   ],
   "source": [
    "df_srtm_raw = gpd.read_file('https://ndownloader.figshare.com/files/1944795')\n",
    "df_srtm_raw.head()"
   ]
  },
  {
   "cell_type": "code",
   "execution_count": 3,
   "id": "directed-irrigation",
   "metadata": {
    "ExecuteTime": {
     "end_time": "2021-06-22T18:32:38.475196Z",
     "start_time": "2021-06-22T18:32:38.408146Z"
    }
   },
   "outputs": [
    {
     "data": {
      "text/html": [
       "<div>\n",
       "<style scoped>\n",
       "    .dataframe tbody tr th:only-of-type {\n",
       "        vertical-align: middle;\n",
       "    }\n",
       "\n",
       "    .dataframe tbody tr th {\n",
       "        vertical-align: top;\n",
       "    }\n",
       "\n",
       "    .dataframe thead th {\n",
       "        text-align: right;\n",
       "    }\n",
       "</style>\n",
       "<table border=\"1\" class=\"dataframe\">\n",
       "  <thead>\n",
       "    <tr style=\"text-align: right;\">\n",
       "      <th></th>\n",
       "      <th>tile_id</th>\n",
       "      <th>url</th>\n",
       "      <th>geometry</th>\n",
       "    </tr>\n",
       "  </thead>\n",
       "  <tbody>\n",
       "    <tr>\n",
       "      <th>0</th>\n",
       "      <td>N00E006</td>\n",
       "      <td>http://e4ftl01.cr.usgs.gov/MEASURES/SRTMGL1.00...</td>\n",
       "      <td>POLYGON ((6.00000 0.00000, 6.00000 1.00000, 7....</td>\n",
       "    </tr>\n",
       "    <tr>\n",
       "      <th>1</th>\n",
       "      <td>N00E009</td>\n",
       "      <td>http://e4ftl01.cr.usgs.gov/MEASURES/SRTMGL1.00...</td>\n",
       "      <td>POLYGON ((9.00000 0.00000, 9.00000 1.00000, 10...</td>\n",
       "    </tr>\n",
       "    <tr>\n",
       "      <th>2</th>\n",
       "      <td>N00E010</td>\n",
       "      <td>http://e4ftl01.cr.usgs.gov/MEASURES/SRTMGL1.00...</td>\n",
       "      <td>POLYGON ((10.00000 0.00000, 10.00000 1.00000, ...</td>\n",
       "    </tr>\n",
       "    <tr>\n",
       "      <th>3</th>\n",
       "      <td>N00E011</td>\n",
       "      <td>http://e4ftl01.cr.usgs.gov/MEASURES/SRTMGL1.00...</td>\n",
       "      <td>POLYGON ((11.00000 0.00000, 11.00000 1.00000, ...</td>\n",
       "    </tr>\n",
       "    <tr>\n",
       "      <th>4</th>\n",
       "      <td>N00E012</td>\n",
       "      <td>http://e4ftl01.cr.usgs.gov/MEASURES/SRTMGL1.00...</td>\n",
       "      <td>POLYGON ((12.00000 0.00000, 12.00000 1.00000, ...</td>\n",
       "    </tr>\n",
       "  </tbody>\n",
       "</table>\n",
       "</div>"
      ],
      "text/plain": [
       "   tile_id                                                url  \\\n",
       "0  N00E006  http://e4ftl01.cr.usgs.gov/MEASURES/SRTMGL1.00...   \n",
       "1  N00E009  http://e4ftl01.cr.usgs.gov/MEASURES/SRTMGL1.00...   \n",
       "2  N00E010  http://e4ftl01.cr.usgs.gov/MEASURES/SRTMGL1.00...   \n",
       "3  N00E011  http://e4ftl01.cr.usgs.gov/MEASURES/SRTMGL1.00...   \n",
       "4  N00E012  http://e4ftl01.cr.usgs.gov/MEASURES/SRTMGL1.00...   \n",
       "\n",
       "                                            geometry  \n",
       "0  POLYGON ((6.00000 0.00000, 6.00000 1.00000, 7....  \n",
       "1  POLYGON ((9.00000 0.00000, 9.00000 1.00000, 10...  \n",
       "2  POLYGON ((10.00000 0.00000, 10.00000 1.00000, ...  \n",
       "3  POLYGON ((11.00000 0.00000, 11.00000 1.00000, ...  \n",
       "4  POLYGON ((12.00000 0.00000, 12.00000 1.00000, ...  "
      ]
     },
     "execution_count": 3,
     "metadata": {},
     "output_type": "execute_result"
    }
   ],
   "source": [
    "df_srtm = df_srtm_raw.copy()\n",
    "df_srtm.rename(columns={'id': 'tile_id'}, inplace=True)\n",
    "df_srtm['url'] = df_srtm['tile_id'].map(lambda tile_id: f'http://e4ftl01.cr.usgs.gov/MEASURES/SRTMGL1.003/2000.02.11/{tile_id}.SRTMGL1.hgt.zip')\n",
    "df_srtm = df_srtm[['tile_id', 'url', 'geometry']].copy()\n",
    "df_srtm.head()"
   ]
  },
  {
   "cell_type": "code",
   "execution_count": 4,
   "id": "elementary-fetish",
   "metadata": {
    "ExecuteTime": {
     "end_time": "2021-06-22T18:32:39.324768Z",
     "start_time": "2021-06-22T18:32:38.477029Z"
    }
   },
   "outputs": [
    {
     "data": {
      "text/plain": [
       "PosixPath('/Users/cmarshak/bekaert-team/dem-stitcher/dem_stitcher/data/srtm_v3.geojson.zip')"
      ]
     },
     "execution_count": 4,
     "metadata": {},
     "output_type": "execute_result"
    }
   ],
   "source": [
    "to_geojson_gzip(df_srtm, DATA_PATH/'srtm_v3.geojson.zip')"
   ]
  },
  {
   "cell_type": "code",
   "execution_count": 5,
   "id": "specific-bhutan",
   "metadata": {
    "ExecuteTime": {
     "end_time": "2021-06-22T18:32:42.187004Z",
     "start_time": "2021-06-22T18:32:39.326138Z"
    }
   },
   "outputs": [],
   "source": [
    "urls = df_srtm.url.to_list()\n",
    "\n",
    "X, p = read_srtm(urls[0])"
   ]
  },
  {
   "cell_type": "code",
   "execution_count": 6,
   "id": "mental-tackle",
   "metadata": {
    "ExecuteTime": {
     "end_time": "2021-06-22T18:32:42.724267Z",
     "start_time": "2021-06-22T18:32:42.188564Z"
    }
   },
   "outputs": [
    {
     "data": {
      "text/plain": [
       "<matplotlib.image.AxesImage at 0x7fe968de0130>"
      ]
     },
     "execution_count": 6,
     "metadata": {},
     "output_type": "execute_result"
    },
    {
     "data": {
      "image/png": "[encoded data removed]",
      "text/plain": [
       "<Figure size 432x288 with 1 Axes>"
      ]
     },
     "metadata": {
      "needs_background": "light"
     },
     "output_type": "display_data"
    }
   ],
   "source": [
    "plt.imshow(X)"
   ]
  },
  {
   "cell_type": "markdown",
   "id": "hydraulic-ranch",
   "metadata": {},
   "source": [
    "# TDX"
   ]
  },
  {
   "cell_type": "code",
   "execution_count": 7,
   "id": "fancy-cooking",
   "metadata": {
    "ExecuteTime": {
     "end_time": "2021-06-22T18:32:46.341698Z",
     "start_time": "2021-06-22T18:32:42.725843Z"
    }
   },
   "outputs": [
    {
     "data": {
      "text/html": [
       "<div>\n",
       "<style scoped>\n",
       "    .dataframe tbody tr th:only-of-type {\n",
       "        vertical-align: middle;\n",
       "    }\n",
       "\n",
       "    .dataframe tbody tr th {\n",
       "        vertical-align: top;\n",
       "    }\n",
       "\n",
       "    .dataframe thead th {\n",
       "        text-align: right;\n",
       "    }\n",
       "</style>\n",
       "<table border=\"1\" class=\"dataframe\">\n",
       "  <thead>\n",
       "    <tr style=\"text-align: right;\">\n",
       "      <th></th>\n",
       "      <th>id</th>\n",
       "      <th>geometry</th>\n",
       "    </tr>\n",
       "  </thead>\n",
       "  <tbody>\n",
       "    <tr>\n",
       "      <th>0</th>\n",
       "      <td>Copernicus_DSM_COG_10_N85_00_W180_00_DEM</td>\n",
       "      <td>POLYGON ((-180.001 85.000, -180.001 86.000, -1...</td>\n",
       "    </tr>\n",
       "    <tr>\n",
       "      <th>1</th>\n",
       "      <td>Copernicus_DSM_COG_10_N85_00_W179_00_DEM</td>\n",
       "      <td>POLYGON ((-179.001 85.000, -179.001 86.000, -1...</td>\n",
       "    </tr>\n",
       "    <tr>\n",
       "      <th>2</th>\n",
       "      <td>Copernicus_DSM_COG_10_N85_00_W178_00_DEM</td>\n",
       "      <td>POLYGON ((-178.001 85.000, -178.001 86.000, -1...</td>\n",
       "    </tr>\n",
       "    <tr>\n",
       "      <th>3</th>\n",
       "      <td>Copernicus_DSM_COG_10_N85_00_W177_00_DEM</td>\n",
       "      <td>POLYGON ((-177.001 85.000, -177.001 86.000, -1...</td>\n",
       "    </tr>\n",
       "    <tr>\n",
       "      <th>4</th>\n",
       "      <td>Copernicus_DSM_COG_10_N85_00_W176_00_DEM</td>\n",
       "      <td>POLYGON ((-176.001 85.000, -176.001 86.000, -1...</td>\n",
       "    </tr>\n",
       "  </tbody>\n",
       "</table>\n",
       "</div>"
      ],
      "text/plain": [
       "                                         id  \\\n",
       "0  Copernicus_DSM_COG_10_N85_00_W180_00_DEM   \n",
       "1  Copernicus_DSM_COG_10_N85_00_W179_00_DEM   \n",
       "2  Copernicus_DSM_COG_10_N85_00_W178_00_DEM   \n",
       "3  Copernicus_DSM_COG_10_N85_00_W177_00_DEM   \n",
       "4  Copernicus_DSM_COG_10_N85_00_W176_00_DEM   \n",
       "\n",
       "                                            geometry  \n",
       "0  POLYGON ((-180.001 85.000, -180.001 86.000, -1...  \n",
       "1  POLYGON ((-179.001 85.000, -179.001 86.000, -1...  \n",
       "2  POLYGON ((-178.001 85.000, -178.001 86.000, -1...  \n",
       "3  POLYGON ((-177.001 85.000, -177.001 86.000, -1...  \n",
       "4  POLYGON ((-176.001 85.000, -176.001 86.000, -1...  "
      ]
     },
     "execution_count": 7,
     "metadata": {},
     "output_type": "execute_result"
    }
   ],
   "source": [
    "df_tdx_raw = gpd.read_file('https://copernicus-dem-30m.s3.amazonaws.com/grid.zip')\n",
    "df_tdx_raw.head()"
   ]
  },
  {
   "cell_type": "code",
   "execution_count": 8,
   "id": "committed-environment",
   "metadata": {
    "ExecuteTime": {
     "end_time": "2021-06-22T18:32:46.360925Z",
     "start_time": "2021-06-22T18:32:46.344455Z"
    }
   },
   "outputs": [],
   "source": [
    "df_tdx = df_tdx_raw.copy()"
   ]
  },
  {
   "cell_type": "code",
   "execution_count": 9,
   "id": "prostate-ferry",
   "metadata": {
    "ExecuteTime": {
     "end_time": "2021-06-22T18:32:46.407507Z",
     "start_time": "2021-06-22T18:32:46.363252Z"
    }
   },
   "outputs": [],
   "source": [
    "df_tdx.rename(columns={'id': 'tile_id'}, inplace=True)\n",
    "TDX_URL = 'https://copernicus-dem-30m.s3.amazonaws.com'\n",
    "df_tdx['url'] = df_tdx['tile_id'].map(lambda tile_id: f'{TDX_URL}/{tile_id}/{tile_id}.tif')\n",
    "df_tdx = df_tdx[['tile_id', 'url', 'geometry']]"
   ]
  },
  {
   "cell_type": "code",
   "execution_count": 10,
   "id": "outstanding-gentleman",
   "metadata": {
    "ExecuteTime": {
     "end_time": "2021-06-22T18:32:54.548008Z",
     "start_time": "2021-06-22T18:32:46.409016Z"
    }
   },
   "outputs": [
    {
     "data": {
      "text/plain": [
       "<matplotlib.image.AxesImage at 0x7fe969c4a7f0>"
      ]
     },
     "execution_count": 10,
     "metadata": {},
     "output_type": "execute_result"
    },
    {
     "data": {
      "image/png": "[encoded data removed]",
      "text/plain": [
       "<Figure size 432x288 with 1 Axes>"
      ]
     },
     "metadata": {
      "needs_background": "light"
     },
     "output_type": "display_data"
    }
   ],
   "source": [
    "urls = df_tdx.url.tolist()\n",
    "k = 32589\n",
    "\n",
    "with rasterio.open(urls[k]) as ds:\n",
    "    X = ds.read(1)\n",
    "plt.imshow(X)"
   ]
  },
  {
   "cell_type": "code",
   "execution_count": 11,
   "id": "regional-employer",
   "metadata": {
    "ExecuteTime": {
     "end_time": "2021-06-22T18:32:58.630047Z",
     "start_time": "2021-06-22T18:32:54.549686Z"
    }
   },
   "outputs": [
    {
     "data": {
      "text/plain": [
       "PosixPath('/Users/cmarshak/bekaert-team/dem-stitcher/dem_stitcher/data/tdx_30.geojson.zip')"
      ]
     },
     "execution_count": 11,
     "metadata": {},
     "output_type": "execute_result"
    }
   ],
   "source": [
    "to_geojson_gzip(df_tdx, DATA_PATH/'tdx_30.geojson.zip')"
   ]
  },
  {
   "cell_type": "markdown",
   "id": "informative-demonstration",
   "metadata": {
    "ExecuteTime": {
     "end_time": "2021-06-02T23:53:00.097929Z",
     "start_time": "2021-06-02T23:53:00.095392Z"
    }
   },
   "source": [
    "# 3dep\n",
    "\n",
    "## Read through S3 Bucket"
   ]
  },
  {
   "cell_type": "code",
   "execution_count": 12,
   "id": "455391d4",
   "metadata": {
    "ExecuteTime": {
     "end_time": "2021-06-22T18:33:02.839400Z",
     "start_time": "2021-06-22T18:32:58.631521Z"
    }
   },
   "outputs": [
    {
     "data": {
      "text/plain": [
       "[{'Key': 'StagedProducts/Elevation/1/TIFF/n06e162/USGS_1_n06e162.jpg',\n",
       "  'LastModified': datetime.datetime(2019, 12, 4, 2, 16, 38, tzinfo=tzutc()),\n",
       "  'ETag': '\"3ccc340f6c4664b0183267239f40cf6e\"',\n",
       "  'Size': 969,\n",
       "  'StorageClass': 'STANDARD'},\n",
       " {'Key': 'StagedProducts/Elevation/1/TIFF/n06e162/USGS_1_n06e162.tif',\n",
       "  'LastModified': datetime.datetime(2019, 12, 11, 2, 16, 43, tzinfo=tzutc()),\n",
       "  'ETag': '\"90d8ba82df12261245aa09cbbaf22589\"',\n",
       "  'Size': 1542700,\n",
       "  'StorageClass': 'STANDARD'},\n",
       " {'Key': 'StagedProducts/Elevation/1/TIFF/n06e162/USGS_1_n06e162.xml',\n",
       "  'LastModified': datetime.datetime(2019, 12, 4, 2, 16, 38, tzinfo=tzutc()),\n",
       "  'ETag': '\"5fe5e0cc9932d4bd9413d1482047977a\"',\n",
       "  'Size': 11221,\n",
       "  'StorageClass': 'STANDARD'},\n",
       " {'Key': 'StagedProducts/Elevation/1/TIFF/n06e162/n06e162.gpkg',\n",
       "  'LastModified': datetime.datetime(2019, 12, 6, 2, 17, 1, tzinfo=tzutc()),\n",
       "  'ETag': '\"c60495b0dcba350365514933a716d586\"',\n",
       "  'Size': 98304,\n",
       "  'StorageClass': 'STANDARD'},\n",
       " {'Key': 'StagedProducts/Elevation/1/TIFF/n06e163/USGS_1_n06e163.jpg',\n",
       "  'LastModified': datetime.datetime(2019, 12, 4, 2, 16, 38, tzinfo=tzutc()),\n",
       "  'ETag': '\"7db4cd40f0c2d8ed2192ba5a206e2e5d\"',\n",
       "  'Size': 776,\n",
       "  'StorageClass': 'STANDARD'}]"
      ]
     },
     "execution_count": 12,
     "metadata": {},
     "output_type": "execute_result"
    }
   ],
   "source": [
    "s3client = boto3.client('s3')\n",
    "BUCKET_NAME = 'prd-tnm'\n",
    "objects = s3client.list_objects(Bucket=BUCKET_NAME,\n",
    "                                Prefix='StagedProducts/Elevation/1/TIFF/')\n",
    "objects['Contents'][:5]"
   ]
  },
  {
   "cell_type": "code",
   "execution_count": 13,
   "id": "bcdfdc9b",
   "metadata": {
    "ExecuteTime": {
     "end_time": "2021-06-22T18:33:02.857476Z",
     "start_time": "2021-06-22T18:33:02.840866Z"
    }
   },
   "outputs": [],
   "source": [
    "paginator = s3client.get_paginator('list_objects_v2')\n",
    "pages = paginator.paginate(Bucket=BUCKET_NAME, \n",
    "                           Prefix='StagedProducts/Elevation/1/TIFF/')"
   ]
  },
  {
   "cell_type": "code",
   "execution_count": 14,
   "id": "876720b2",
   "metadata": {
    "ExecuteTime": {
     "end_time": "2021-06-22T18:33:16.703669Z",
     "start_time": "2021-06-22T18:33:02.858621Z"
    }
   },
   "outputs": [
    {
     "name": "stderr",
     "output_type": "stream",
     "text": [
      "17it [00:13,  1.23it/s]\n"
     ]
    },
    {
     "data": {
      "text/plain": [
       "{'Key': 'StagedProducts/Elevation/1/TIFF/n06e162/USGS_1_n06e162.jpg',\n",
       " 'LastModified': datetime.datetime(2019, 12, 4, 2, 16, 38, tzinfo=tzutc()),\n",
       " 'ETag': '\"3ccc340f6c4664b0183267239f40cf6e\"',\n",
       " 'Size': 969,\n",
       " 'StorageClass': 'STANDARD'}"
      ]
     },
     "execution_count": 14,
     "metadata": {},
     "output_type": "execute_result"
    }
   ],
   "source": [
    "all_contents = []\n",
    "for page in tqdm(pages):\n",
    "    all_contents += page['Contents']\n",
    "\n",
    "all_contents[0]"
   ]
  },
  {
   "cell_type": "code",
   "execution_count": 15,
   "id": "251e0f1d",
   "metadata": {
    "ExecuteTime": {
     "end_time": "2021-06-22T18:33:16.713349Z",
     "start_time": "2021-06-22T18:33:16.705404Z"
    }
   },
   "outputs": [
    {
     "data": {
      "text/plain": [
       "[{'Key': 'StagedProducts/Elevation/1/TIFF/n06e162/USGS_1_n06e162.tif',\n",
       "  'LastModified': datetime.datetime(2019, 12, 11, 2, 16, 43, tzinfo=tzutc()),\n",
       "  'ETag': '\"90d8ba82df12261245aa09cbbaf22589\"',\n",
       "  'Size': 1542700,\n",
       "  'StorageClass': 'STANDARD'},\n",
       " {'Key': 'StagedProducts/Elevation/1/TIFF/n06e163/USGS_1_n06e163.tif',\n",
       "  'LastModified': datetime.datetime(2019, 12, 11, 2, 16, 43, tzinfo=tzutc()),\n",
       "  'ETag': '\"f2799568910a5217bafdcc6f122d5729\"',\n",
       "  'Size': 1253435,\n",
       "  'StorageClass': 'STANDARD'},\n",
       " {'Key': 'StagedProducts/Elevation/1/TIFF/n07e134/USGS_1_n07e134.tif',\n",
       "  'LastModified': datetime.datetime(2019, 12, 11, 2, 16, 43, tzinfo=tzutc()),\n",
       "  'ETag': '\"1fbc41c777e38a20b20f5a222439dca2\"',\n",
       "  'Size': 1125374,\n",
       "  'StorageClass': 'STANDARD'}]"
      ]
     },
     "execution_count": 15,
     "metadata": {},
     "output_type": "execute_result"
    }
   ],
   "source": [
    "tif_obs = list(filter(lambda ob: '.tif' in ob['Key'], all_contents))\n",
    "tif_obs[:3]"
   ]
  },
  {
   "cell_type": "code",
   "execution_count": 16,
   "id": "e6901f21",
   "metadata": {
    "ExecuteTime": {
     "end_time": "2021-06-22T18:33:16.718957Z",
     "start_time": "2021-06-22T18:33:16.714953Z"
    }
   },
   "outputs": [],
   "source": [
    "def get_bbox(tile_id):\n",
    "    lat_sign = tile_id[0]\n",
    "    lat_num = int(tile_id[1:3])\n",
    "    lon_sign = tile_id[3]\n",
    "    lon_num = int(tile_id[4:7])\n",
    "    \n",
    "    assert((lat_sign in ['n', 's']) and (lon_sign in ['e', 'w']))\n",
    "    lon = lon_num if lon_sign == 'e' else -lon_num\n",
    "    lat = lat_num if lat_sign == 'n' else -lat_num\n",
    "    \n",
    "    return box(lon, lat - 1, lon + 1, lat)\n",
    "\n",
    "def format_data(data):\n",
    "    out_data = {}\n",
    "    key = data['Key']\n",
    "    out_data['tile_id'] = key.split('/')[-2]\n",
    "    out_data['url'] = f'https://prd-tnm.s3.amazonaws.com/{key}'\n",
    "    out_data['last_modified'] = data['LastModified']\n",
    "    out_data['geometry'] = get_bbox(out_data['tile_id'])\n",
    "    return out_data"
   ]
  },
  {
   "cell_type": "code",
   "execution_count": 17,
   "id": "ee633991",
   "metadata": {
    "ExecuteTime": {
     "end_time": "2021-06-22T18:33:16.832326Z",
     "start_time": "2021-06-22T18:33:16.720485Z"
    }
   },
   "outputs": [
    {
     "data": {
      "text/html": [
       "<div>\n",
       "<style scoped>\n",
       "    .dataframe tbody tr th:only-of-type {\n",
       "        vertical-align: middle;\n",
       "    }\n",
       "\n",
       "    .dataframe tbody tr th {\n",
       "        vertical-align: top;\n",
       "    }\n",
       "\n",
       "    .dataframe thead th {\n",
       "        text-align: right;\n",
       "    }\n",
       "</style>\n",
       "<table border=\"1\" class=\"dataframe\">\n",
       "  <thead>\n",
       "    <tr style=\"text-align: right;\">\n",
       "      <th></th>\n",
       "      <th>tile_id</th>\n",
       "      <th>url</th>\n",
       "      <th>geometry</th>\n",
       "    </tr>\n",
       "  </thead>\n",
       "  <tbody>\n",
       "    <tr>\n",
       "      <th>0</th>\n",
       "      <td>n06e162</td>\n",
       "      <td>https://prd-tnm.s3.amazonaws.com/StagedProduct...</td>\n",
       "      <td>POLYGON ((163.00000 5.00000, 163.00000 6.00000...</td>\n",
       "    </tr>\n",
       "    <tr>\n",
       "      <th>1</th>\n",
       "      <td>n06e163</td>\n",
       "      <td>https://prd-tnm.s3.amazonaws.com/StagedProduct...</td>\n",
       "      <td>POLYGON ((164.00000 5.00000, 164.00000 6.00000...</td>\n",
       "    </tr>\n",
       "    <tr>\n",
       "      <th>2</th>\n",
       "      <td>n07e134</td>\n",
       "      <td>https://prd-tnm.s3.amazonaws.com/StagedProduct...</td>\n",
       "      <td>POLYGON ((135.00000 6.00000, 135.00000 7.00000...</td>\n",
       "    </tr>\n",
       "    <tr>\n",
       "      <th>3</th>\n",
       "      <td>n07e151</td>\n",
       "      <td>https://prd-tnm.s3.amazonaws.com/StagedProduct...</td>\n",
       "      <td>POLYGON ((152.00000 6.00000, 152.00000 7.00000...</td>\n",
       "    </tr>\n",
       "    <tr>\n",
       "      <th>4</th>\n",
       "      <td>n07e152</td>\n",
       "      <td>https://prd-tnm.s3.amazonaws.com/StagedProduct...</td>\n",
       "      <td>POLYGON ((153.00000 6.00000, 153.00000 7.00000...</td>\n",
       "    </tr>\n",
       "  </tbody>\n",
       "</table>\n",
       "</div>"
      ],
      "text/plain": [
       "   tile_id                                                url  \\\n",
       "0  n06e162  https://prd-tnm.s3.amazonaws.com/StagedProduct...   \n",
       "1  n06e163  https://prd-tnm.s3.amazonaws.com/StagedProduct...   \n",
       "2  n07e134  https://prd-tnm.s3.amazonaws.com/StagedProduct...   \n",
       "3  n07e151  https://prd-tnm.s3.amazonaws.com/StagedProduct...   \n",
       "4  n07e152  https://prd-tnm.s3.amazonaws.com/StagedProduct...   \n",
       "\n",
       "                                            geometry  \n",
       "0  POLYGON ((163.00000 5.00000, 163.00000 6.00000...  \n",
       "1  POLYGON ((164.00000 5.00000, 164.00000 6.00000...  \n",
       "2  POLYGON ((135.00000 6.00000, 135.00000 7.00000...  \n",
       "3  POLYGON ((152.00000 6.00000, 152.00000 7.00000...  \n",
       "4  POLYGON ((153.00000 6.00000, 153.00000 7.00000...  "
      ]
     },
     "execution_count": 17,
     "metadata": {},
     "output_type": "execute_result"
    }
   ],
   "source": [
    "tile_data = list(map(format_data, tif_obs))\n",
    "\n",
    "df_3dep = pd.DataFrame(tile_data)\n",
    "df_3dep = df_3dep.sort_values(by=['tile_id', 'last_modified'], ascending=True)\n",
    "df_3dep.drop_duplicates(subset='tile_id', keep='last', inplace=True)\n",
    "df_3dep = gpd.GeoDataFrame(df_3dep, geometry=df_3dep.geometry, crs=CRS.from_epsg(4326))\n",
    "df_3dep = df_3dep[['tile_id', 'url', 'geometry']].copy()\n",
    "df_3dep.head()"
   ]
  },
  {
   "cell_type": "code",
   "execution_count": 18,
   "id": "d8c7a782",
   "metadata": {
    "ExecuteTime": {
     "end_time": "2021-06-22T18:33:16.837085Z",
     "start_time": "2021-06-22T18:33:16.833841Z"
    }
   },
   "outputs": [
    {
     "data": {
      "text/plain": [
       "'https://prd-tnm.s3.amazonaws.com/StagedProducts/Elevation/1/TIFF/n06e162/USGS_1_n06e162.tif'"
      ]
     },
     "execution_count": 18,
     "metadata": {},
     "output_type": "execute_result"
    }
   ],
   "source": [
    "df_3dep.url.tolist()[0]"
   ]
  },
  {
   "cell_type": "code",
   "execution_count": 19,
   "id": "d5a97013",
   "metadata": {
    "ExecuteTime": {
     "end_time": "2021-06-22T18:33:17.049625Z",
     "start_time": "2021-06-22T18:33:16.838390Z"
    }
   },
   "outputs": [
    {
     "data": {
      "text/plain": [
       "PosixPath('/Users/cmarshak/bekaert-team/dem-stitcher/dem_stitcher/data/3dep.geojson.zip')"
      ]
     },
     "execution_count": 19,
     "metadata": {},
     "output_type": "execute_result"
    }
   ],
   "source": [
    "#df_3dep.to_file('3dep.geojson', driver='GeoJSON')\n",
    "to_geojson_gzip(df_3dep, DATA_PATH/'3dep.geojson.zip')"
   ]
  },
  {
   "cell_type": "markdown",
   "id": "d94e4b6a",
   "metadata": {},
   "source": [
    "# Ned1"
   ]
  },
  {
   "cell_type": "code",
   "execution_count": 20,
   "id": "16f2e36e",
   "metadata": {
    "ExecuteTime": {
     "end_time": "2021-06-22T18:33:19.774275Z",
     "start_time": "2021-06-22T18:33:17.051070Z"
    }
   },
   "outputs": [
    {
     "data": {
      "text/plain": [
       "[{'Key': 'StagedProducts/Elevation/1/IMG/Thumbs (2).db',\n",
       "  'LastModified': datetime.datetime(2019, 8, 21, 20, 3, 53, tzinfo=tzutc()),\n",
       "  'ETag': '\"35a3ffdeaa2e01bc650852ba3b148076\"',\n",
       "  'Size': 10240,\n",
       "  'StorageClass': 'STANDARD'},\n",
       " {'Key': 'StagedProducts/Elevation/1/IMG/Thumbs.db',\n",
       "  'LastModified': datetime.datetime(2019, 8, 21, 20, 3, 54, tzinfo=tzutc()),\n",
       "  'ETag': '\"94e7b4e49dd2eaba551bb7f9c3f5fb66\"',\n",
       "  'Size': 15872,\n",
       "  'StorageClass': 'STANDARD'},\n",
       " {'Key': 'StagedProducts/Elevation/1/IMG/USGS_NED_1_n18w066_IMG.zip',\n",
       "  'LastModified': datetime.datetime(2018, 10, 27, 1, 32, 23, tzinfo=tzutc()),\n",
       "  'ETag': '\"afec7651ba529aa7946beaa4bdd55585\"',\n",
       "  'Size': 325350,\n",
       "  'StorageClass': 'STANDARD'},\n",
       " {'Key': 'StagedProducts/Elevation/1/IMG/USGS_NED_1_n18w066_IMG_thumb.jpg',\n",
       "  'LastModified': datetime.datetime(2018, 10, 27, 1, 32, 29, tzinfo=tzutc()),\n",
       "  'ETag': '\"1a5a97eb77835437042e550f70014f63\"',\n",
       "  'Size': 870,\n",
       "  'StorageClass': 'STANDARD'},\n",
       " {'Key': 'StagedProducts/Elevation/1/IMG/USGS_NED_1_n18w067_IMG.zip',\n",
       "  'LastModified': datetime.datetime(2018, 10, 27, 1, 32, 23, tzinfo=tzutc()),\n",
       "  'ETag': '\"fb0273eabf422c0488571586c50f243a\"',\n",
       "  'Size': 2472963,\n",
       "  'StorageClass': 'STANDARD'}]"
      ]
     },
     "execution_count": 20,
     "metadata": {},
     "output_type": "execute_result"
    }
   ],
   "source": [
    "s3client = boto3.client('s3')\n",
    "BUCKET_NAME = 'prd-tnm'\n",
    "objects = s3client.list_objects(Bucket=BUCKET_NAME,\n",
    "                                Prefix='StagedProducts/Elevation/1/IMG/')\n",
    "objects['Contents'][:5]"
   ]
  },
  {
   "cell_type": "code",
   "execution_count": 21,
   "id": "4ad8bd60",
   "metadata": {
    "ExecuteTime": {
     "end_time": "2021-06-22T18:33:19.778130Z",
     "start_time": "2021-06-22T18:33:19.775882Z"
    }
   },
   "outputs": [],
   "source": [
    "paginator = s3client.get_paginator('list_objects_v2')\n",
    "pages_ned1 = paginator.paginate(Bucket=BUCKET_NAME, \n",
    "                                Prefix='StagedProducts/Elevation/1/IMG/')"
   ]
  },
  {
   "cell_type": "code",
   "execution_count": 22,
   "id": "4fac994d",
   "metadata": {
    "ExecuteTime": {
     "end_time": "2021-06-22T18:33:21.907669Z",
     "start_time": "2021-06-22T18:33:19.779785Z"
    }
   },
   "outputs": [
    {
     "name": "stderr",
     "output_type": "stream",
     "text": [
      "9it [00:02,  4.24it/s]\n"
     ]
    },
    {
     "data": {
      "text/plain": [
       "{'Key': 'StagedProducts/Elevation/1/IMG/Thumbs (2).db',\n",
       " 'LastModified': datetime.datetime(2019, 8, 21, 20, 3, 53, tzinfo=tzutc()),\n",
       " 'ETag': '\"35a3ffdeaa2e01bc650852ba3b148076\"',\n",
       " 'Size': 10240,\n",
       " 'StorageClass': 'STANDARD'}"
      ]
     },
     "execution_count": 22,
     "metadata": {},
     "output_type": "execute_result"
    }
   ],
   "source": [
    "all_contents_ned1 = []\n",
    "for page in tqdm(pages_ned1):\n",
    "    all_contents_ned1 += page['Contents']\n",
    "\n",
    "all_contents_ned1[0]"
   ]
  },
  {
   "cell_type": "code",
   "execution_count": 23,
   "id": "4e0be090",
   "metadata": {
    "ExecuteTime": {
     "end_time": "2021-06-22T18:33:21.917593Z",
     "start_time": "2021-06-22T18:33:21.911948Z"
    }
   },
   "outputs": [
    {
     "data": {
      "text/plain": [
       "[{'Key': 'StagedProducts/Elevation/1/IMG/USGS_NED_1_n18w066_IMG.zip',\n",
       "  'LastModified': datetime.datetime(2018, 10, 27, 1, 32, 23, tzinfo=tzutc()),\n",
       "  'ETag': '\"afec7651ba529aa7946beaa4bdd55585\"',\n",
       "  'Size': 325350,\n",
       "  'StorageClass': 'STANDARD'},\n",
       " {'Key': 'StagedProducts/Elevation/1/IMG/USGS_NED_1_n18w067_IMG.zip',\n",
       "  'LastModified': datetime.datetime(2018, 10, 27, 1, 32, 23, tzinfo=tzutc()),\n",
       "  'ETag': '\"fb0273eabf422c0488571586c50f243a\"',\n",
       "  'Size': 2472963,\n",
       "  'StorageClass': 'STANDARD'},\n",
       " {'Key': 'StagedProducts/Elevation/1/IMG/USGS_NED_1_n18w068_IMG.zip',\n",
       "  'LastModified': datetime.datetime(2018, 10, 27, 1, 32, 24, tzinfo=tzutc()),\n",
       "  'ETag': '\"2be372ac1356440c568f671f4ebd5271\"',\n",
       "  'Size': 669595,\n",
       "  'StorageClass': 'STANDARD'}]"
      ]
     },
     "execution_count": 23,
     "metadata": {},
     "output_type": "execute_result"
    }
   ],
   "source": [
    "zip_ob = list(filter(lambda ob: '.zip' in ob['Key'], all_contents_ned1))\n",
    "zip_ob[:3]"
   ]
  },
  {
   "cell_type": "code",
   "execution_count": 24,
   "id": "56ebb960",
   "metadata": {
    "ExecuteTime": {
     "end_time": "2021-06-22T18:33:21.923847Z",
     "start_time": "2021-06-22T18:33:21.919244Z"
    }
   },
   "outputs": [],
   "source": [
    "def get_bbox(tile_id):\n",
    "    lat_sign = tile_id[0]\n",
    "    lat_num = int(tile_id[1:3])\n",
    "    lon_sign = tile_id[3]\n",
    "    lon_num = int(tile_id[4:7])\n",
    "    \n",
    "    assert((lat_sign in ['n', 's']) and (lon_sign in ['e', 'w']))\n",
    "    lon = lon_num if lon_sign == 'e' else -lon_num\n",
    "    lat = lat_num if lat_sign == 'n' else -lat_num\n",
    "    \n",
    "    return box(lon, lat - 1, lon + 1, lat)\n",
    "\n",
    "def format_data(data):\n",
    "    out_data = {}\n",
    "    key = data['Key']\n",
    "    tile_id = key.split('/')[-1]\n",
    "    tile_id_tokens = tile_id.split('_')\n",
    "    tile_id_tokens = list(filter(lambda x: x[0] in ['n', 's'], tile_id_tokens))\n",
    "    assert(len(tile_id_tokens) == 1)\n",
    "    out_data['tile_id'] = tile_id_tokens[0].replace('.zip', '')\n",
    "    out_data['url'] = f'https://prd-tnm.s3.amazonaws.com/{key}'\n",
    "    out_data['last_modified'] = data['LastModified']\n",
    "    out_data['geometry'] = get_bbox(out_data['tile_id'])\n",
    "    return out_data"
   ]
  },
  {
   "cell_type": "code",
   "execution_count": 25,
   "id": "62e23f9c",
   "metadata": {
    "ExecuteTime": {
     "end_time": "2021-06-22T18:33:22.034956Z",
     "start_time": "2021-06-22T18:33:21.925344Z"
    }
   },
   "outputs": [
    {
     "data": {
      "text/html": [
       "<div>\n",
       "<style scoped>\n",
       "    .dataframe tbody tr th:only-of-type {\n",
       "        vertical-align: middle;\n",
       "    }\n",
       "\n",
       "    .dataframe tbody tr th {\n",
       "        vertical-align: top;\n",
       "    }\n",
       "\n",
       "    .dataframe thead th {\n",
       "        text-align: right;\n",
       "    }\n",
       "</style>\n",
       "<table border=\"1\" class=\"dataframe\">\n",
       "  <thead>\n",
       "    <tr style=\"text-align: right;\">\n",
       "      <th></th>\n",
       "      <th>tile_id</th>\n",
       "      <th>url</th>\n",
       "      <th>geometry</th>\n",
       "    </tr>\n",
       "  </thead>\n",
       "  <tbody>\n",
       "    <tr>\n",
       "      <th>1017</th>\n",
       "      <td>n06e162</td>\n",
       "      <td>https://prd-tnm.s3.amazonaws.com/StagedProduct...</td>\n",
       "      <td>POLYGON ((163.00000 5.00000, 163.00000 6.00000...</td>\n",
       "    </tr>\n",
       "    <tr>\n",
       "      <th>1018</th>\n",
       "      <td>n06e163</td>\n",
       "      <td>https://prd-tnm.s3.amazonaws.com/StagedProduct...</td>\n",
       "      <td>POLYGON ((164.00000 5.00000, 164.00000 6.00000...</td>\n",
       "    </tr>\n",
       "    <tr>\n",
       "      <th>1019</th>\n",
       "      <td>n07e134</td>\n",
       "      <td>https://prd-tnm.s3.amazonaws.com/StagedProduct...</td>\n",
       "      <td>POLYGON ((135.00000 6.00000, 135.00000 7.00000...</td>\n",
       "    </tr>\n",
       "    <tr>\n",
       "      <th>1020</th>\n",
       "      <td>n07e151</td>\n",
       "      <td>https://prd-tnm.s3.amazonaws.com/StagedProduct...</td>\n",
       "      <td>POLYGON ((152.00000 6.00000, 152.00000 7.00000...</td>\n",
       "    </tr>\n",
       "    <tr>\n",
       "      <th>1021</th>\n",
       "      <td>n07e152</td>\n",
       "      <td>https://prd-tnm.s3.amazonaws.com/StagedProduct...</td>\n",
       "      <td>POLYGON ((153.00000 6.00000, 153.00000 7.00000...</td>\n",
       "    </tr>\n",
       "  </tbody>\n",
       "</table>\n",
       "</div>"
      ],
      "text/plain": [
       "      tile_id                                                url  \\\n",
       "1017  n06e162  https://prd-tnm.s3.amazonaws.com/StagedProduct...   \n",
       "1018  n06e163  https://prd-tnm.s3.amazonaws.com/StagedProduct...   \n",
       "1019  n07e134  https://prd-tnm.s3.amazonaws.com/StagedProduct...   \n",
       "1020  n07e151  https://prd-tnm.s3.amazonaws.com/StagedProduct...   \n",
       "1021  n07e152  https://prd-tnm.s3.amazonaws.com/StagedProduct...   \n",
       "\n",
       "                                               geometry  \n",
       "1017  POLYGON ((163.00000 5.00000, 163.00000 6.00000...  \n",
       "1018  POLYGON ((164.00000 5.00000, 164.00000 6.00000...  \n",
       "1019  POLYGON ((135.00000 6.00000, 135.00000 7.00000...  \n",
       "1020  POLYGON ((152.00000 6.00000, 152.00000 7.00000...  \n",
       "1021  POLYGON ((153.00000 6.00000, 153.00000 7.00000...  "
      ]
     },
     "execution_count": 25,
     "metadata": {},
     "output_type": "execute_result"
    }
   ],
   "source": [
    "tile_data_ned1 = list(map(format_data, zip_ob))\n",
    "\n",
    "df_ned1 = pd.DataFrame(tile_data_ned1)\n",
    "df_ned1 = df_ned1.sort_values(by=['tile_id', 'last_modified'], ascending=True)\n",
    "df_ned1.drop_duplicates(subset='tile_id', keep='last', inplace=True)\n",
    "df_ned1 = gpd.GeoDataFrame(df_ned1, geometry=df_ned1.geometry, crs=CRS.from_epsg(4326))\n",
    "df_ned1 = df_ned1[['tile_id', 'url', 'geometry']].copy()\n",
    "df_ned1.head()"
   ]
  },
  {
   "cell_type": "code",
   "execution_count": 26,
   "id": "bc1ed3e9",
   "metadata": {
    "ExecuteTime": {
     "end_time": "2021-06-22T18:33:22.255992Z",
     "start_time": "2021-06-22T18:33:22.036326Z"
    }
   },
   "outputs": [
    {
     "data": {
      "text/plain": [
       "PosixPath('/Users/cmarshak/bekaert-team/dem-stitcher/dem_stitcher/data/ned1.geojson.zip')"
      ]
     },
     "execution_count": 26,
     "metadata": {},
     "output_type": "execute_result"
    }
   ],
   "source": [
    "#df_ned1.to_file('ned1.geojson', driver='GeoJSON')\n",
    "to_geojson_gzip(df_ned1, DATA_PATH/'ned1.geojson.zip')"
   ]
  },
  {
   "cell_type": "code",
   "execution_count": null,
   "id": "554849b8",
   "metadata": {},
   "outputs": [],
   "source": []
  }
 ],
 "metadata": {
  "kernelspec": {
   "display_name": "dem_stitcher",
   "language": "python",
   "name": "dem_stitcher"
  },
  "language_info": {
   "codemirror_mode": {
    "name": "ipython",
    "version": 3
   },
   "file_extension": ".py",
   "mimetype": "text/x-python",
   "name": "python",
   "nbconvert_exporter": "python",
   "pygments_lexer": "ipython3",
   "version": "3.8.10"
  }
 },
 "nbformat": 4,
 "nbformat_minor": 5
}
