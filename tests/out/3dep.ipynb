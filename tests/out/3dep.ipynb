{
 "cells": [
  {
   "cell_type": "code",
   "execution_count": 1,
   "id": "technical-special",
   "metadata": {
    "ExecuteTime": {
     "end_time": "2021-07-08T15:57:19.255295Z",
     "start_time": "2021-07-08T15:57:18.439072Z"
    },
    "execution": {
     "iopub.execute_input": "2021-08-10T01:08:16.179282Z",
     "iopub.status.busy": "2021-08-10T01:08:16.178715Z",
     "iopub.status.idle": "2021-08-10T01:08:16.871472Z",
     "shell.execute_reply": "2021-08-10T01:08:16.871866Z"
    },
    "papermill": {
     "duration": 0.703506,
     "end_time": "2021-08-10T01:08:16.872121",
     "exception": false,
     "start_time": "2021-08-10T01:08:16.168615",
     "status": "completed"
    },
    "tags": []
   },
   "outputs": [],
   "source": [
    "from dem_stitcher.stitcher import download_dem \n",
    "import rasterio\n",
    "import matplotlib.pyplot as plt\n",
    "from pathlib import Path"
   ]
  },
  {
   "cell_type": "code",
   "execution_count": 2,
   "id": "acknowledged-bunny",
   "metadata": {
    "ExecuteTime": {
     "end_time": "2021-07-08T15:57:19.259512Z",
     "start_time": "2021-07-08T15:57:19.257159Z"
    },
    "execution": {
     "iopub.execute_input": "2021-08-10T01:08:16.884040Z",
     "iopub.status.busy": "2021-08-10T01:08:16.883372Z",
     "iopub.status.idle": "2021-08-10T01:08:16.885289Z",
     "shell.execute_reply": "2021-08-10T01:08:16.885697Z"
    },
    "papermill": {
     "duration": 0.009661,
     "end_time": "2021-08-10T01:08:16.885876",
     "exception": false,
     "start_time": "2021-08-10T01:08:16.876215",
     "status": "completed"
    },
    "tags": [
     "parameters"
    ]
   },
   "outputs": [],
   "source": [
    "# Bay Area\n",
    "bounds: list = [-121.5, 34.95, -120.2, 36.25]\n",
    "dem_name: str = 'glo_30'\n",
    "save_raw_tiles: bool = False\n",
    "force_agi_read: bool = True\n",
    "test_dir: str = '.'"
   ]
  },
  {
   "cell_type": "code",
   "execution_count": 3,
   "id": "skilled-racing",
   "metadata": {
    "execution": {
     "iopub.execute_input": "2021-08-10T01:08:16.897313Z",
     "iopub.status.busy": "2021-08-10T01:08:16.896799Z",
     "iopub.status.idle": "2021-08-10T01:08:16.898502Z",
     "shell.execute_reply": "2021-08-10T01:08:16.898846Z"
    },
    "papermill": {
     "duration": 0.009164,
     "end_time": "2021-08-10T01:08:16.899006",
     "exception": false,
     "start_time": "2021-08-10T01:08:16.889842",
     "status": "completed"
    },
    "tags": [
     "injected-parameters"
    ]
   },
   "outputs": [],
   "source": [
    "# Parameters\n",
    "dem_name = \"3dep\"\n",
    "test_dir = \"/Users/cmarshak/bekaert-team/dem-stitcher/tests\"\n"
   ]
  },
  {
   "cell_type": "markdown",
   "id": "informal-argument",
   "metadata": {
    "ExecuteTime": {
     "end_time": "2021-06-11T00:14:53.096258Z",
     "start_time": "2021-06-11T00:14:53.074433Z"
    },
    "papermill": {
     "duration": 0.003787,
     "end_time": "2021-08-10T01:08:16.906693",
     "exception": false,
     "start_time": "2021-08-10T01:08:16.902906",
     "status": "completed"
    },
    "tags": []
   },
   "source": [
    "# Check Download"
   ]
  },
  {
   "cell_type": "code",
   "execution_count": null,
   "id": "blessed-leather",
   "metadata": {
    "ExecuteTime": {
     "end_time": "2021-07-08T15:58:58.527310Z",
     "start_time": "2021-07-08T15:57:19.263877Z"
    },
    "papermill": {
     "duration": null,
     "end_time": null,
     "exception": false,
     "start_time": "2021-08-10T01:08:16.910560",
     "status": "running"
    },
    "tags": []
   },
   "outputs": [],
   "source": [
    "%%time\n",
    "\n",
    "out_path = download_dem(bounds, \n",
    "                        dem_name, \n",
    "                        f'{test_dir}/{dem_name}_test',\n",
    "                        save_raw_tiles=save_raw_tiles,\n",
    "                        # More than 5 workers can cause timeout errors.\n",
    "                        max_workers=5,\n",
    "                        force_agi_read_for_geoid=force_agi_read)\n",
    "out_path"
   ]
  },
  {
   "cell_type": "code",
   "execution_count": null,
   "id": "packed-anime",
   "metadata": {
    "ExecuteTime": {
     "end_time": "2021-07-08T15:58:58.607726Z",
     "start_time": "2021-07-08T15:58:58.528919Z"
    },
    "papermill": {
     "duration": null,
     "end_time": null,
     "exception": null,
     "start_time": null,
     "status": "pending"
    },
    "tags": []
   },
   "outputs": [],
   "source": [
    "with rasterio.open(out_path) as ds:\n",
    "    X_0 = ds.read(1)\n",
    "    p_0 = ds.profile"
   ]
  },
  {
   "cell_type": "code",
   "execution_count": null,
   "id": "accomplished-enforcement",
   "metadata": {
    "ExecuteTime": {
     "end_time": "2021-07-08T15:58:59.446550Z",
     "start_time": "2021-07-08T15:58:58.609108Z"
    },
    "papermill": {
     "duration": null,
     "end_time": null,
     "exception": null,
     "start_time": null,
     "status": "pending"
    },
    "tags": []
   },
   "outputs": [],
   "source": [
    "fig, ax = plt.subplots()\n",
    "im = ax.imshow(X_0, vmin=0)\n",
    "fig.colorbar(im, label='Ellipsoidal Height (m)')"
   ]
  },
  {
   "cell_type": "markdown",
   "id": "relevant-grain",
   "metadata": {
    "papermill": {
     "duration": null,
     "end_time": null,
     "exception": null,
     "start_time": null,
     "status": "pending"
    },
    "tags": []
   },
   "source": [
    "Remove all data files."
   ]
  },
  {
   "cell_type": "code",
   "execution_count": null,
   "id": "about-laundry",
   "metadata": {
    "ExecuteTime": {
     "end_time": "2021-07-08T15:58:59.458246Z",
     "start_time": "2021-07-08T15:58:59.448058Z"
    },
    "papermill": {
     "duration": null,
     "end_time": null,
     "exception": null,
     "start_time": null,
     "status": "pending"
    },
    "tags": []
   },
   "outputs": [],
   "source": [
    "data_dir = out_path.parents[0]\n",
    "[file.unlink() for file in data_dir.glob('*')]\n",
    "data_dir.rmdir()"
   ]
  }
 ],
 "metadata": {
  "celltoolbar": "Tags",
  "kernelspec": {
   "display_name": "dem_stitcher",
   "language": "python",
   "name": "dem_stitcher"
  },
  "language_info": {
   "codemirror_mode": {
    "name": "ipython",
    "version": 3
   },
   "file_extension": ".py",
   "mimetype": "text/x-python",
   "name": "python",
   "nbconvert_exporter": "python",
   "pygments_lexer": "ipython3",
   "version": "3.8.10"
  },
  "papermill": {
   "default_parameters": {},
   "duration": null,
   "end_time": null,
   "environment_variables": {},
   "exception": null,
   "input_path": "/Users/cmarshak/bekaert-team/dem-stitcher/tests/test_notebook.ipynb",
   "output_path": "/Users/cmarshak/bekaert-team/dem-stitcher/tests/out/3dep.ipynb",
   "parameters": {
    "dem_name": "3dep",
    "test_dir": "/Users/cmarshak/bekaert-team/dem-stitcher/tests"
   },
   "start_time": "2021-08-10T01:08:15.521095",
   "version": "2.3.3"
  }
 },
 "nbformat": 4,
 "nbformat_minor": 5
}