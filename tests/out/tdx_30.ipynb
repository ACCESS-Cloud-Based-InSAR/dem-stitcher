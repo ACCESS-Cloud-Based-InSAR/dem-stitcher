{
 "cells": [
  {
   "cell_type": "markdown",
   "id": "controlled-hopkins",
   "metadata": {
    "tags": [
     "papermill-error-cell-tag"
    ]
   },
   "source": [
    "<span style=\"color:red; font-family:Helvetica Neue, Helvetica, Arial, sans-serif; font-size:2em;\">An Exception was encountered at '<a href=\"#papermill-error-cell\">In [5]</a>'.</span>"
   ]
  },
  {
   "cell_type": "code",
   "execution_count": 1,
   "id": "technical-special",
   "metadata": {
    "ExecuteTime": {
     "end_time": "2021-07-08T15:57:19.255295Z",
     "start_time": "2021-07-08T15:57:18.439072Z"
    },
    "execution": {
     "iopub.execute_input": "2021-08-10T01:09:01.940309Z",
     "iopub.status.busy": "2021-08-10T01:09:01.939667Z",
     "iopub.status.idle": "2021-08-10T01:09:02.576705Z",
     "shell.execute_reply": "2021-08-10T01:09:02.577086Z"
    },
    "papermill": {
     "duration": 0.648821,
     "end_time": "2021-08-10T01:09:02.577329",
     "exception": false,
     "start_time": "2021-08-10T01:09:01.928508",
     "status": "completed"
    },
    "tags": []
   },
   "outputs": [],
   "source": [
    "from dem_stitcher.stitcher import download_dem \n",
    "import rasterio\n",
    "import matplotlib.pyplot as plt\n",
    "from pathlib import Path"
   ]
  },
  {
   "cell_type": "code",
   "execution_count": 2,
   "id": "acknowledged-bunny",
   "metadata": {
    "ExecuteTime": {
     "end_time": "2021-07-08T15:57:19.259512Z",
     "start_time": "2021-07-08T15:57:19.257159Z"
    },
    "execution": {
     "iopub.execute_input": "2021-08-10T01:09:02.588484Z",
     "iopub.status.busy": "2021-08-10T01:09:02.587991Z",
     "iopub.status.idle": "2021-08-10T01:09:02.589798Z",
     "shell.execute_reply": "2021-08-10T01:09:02.590112Z"
    },
    "papermill": {
     "duration": 0.008786,
     "end_time": "2021-08-10T01:09:02.590258",
     "exception": false,
     "start_time": "2021-08-10T01:09:02.581472",
     "status": "completed"
    },
    "tags": [
     "parameters"
    ]
   },
   "outputs": [],
   "source": [
    "# Bay Area\n",
    "bounds: list = [-121.5, 34.95, -120.2, 36.25]\n",
    "dem_name: str = 'glo_30'\n",
    "save_raw_tiles: bool = False\n",
    "force_agi_read: bool = True\n",
    "test_dir: str = '.'"
   ]
  },
  {
   "cell_type": "code",
   "execution_count": 3,
   "id": "gross-algeria",
   "metadata": {
    "execution": {
     "iopub.execute_input": "2021-08-10T01:09:02.600142Z",
     "iopub.status.busy": "2021-08-10T01:09:02.599677Z",
     "iopub.status.idle": "2021-08-10T01:09:02.601287Z",
     "shell.execute_reply": "2021-08-10T01:09:02.601599Z"
    },
    "papermill": {
     "duration": 0.007749,
     "end_time": "2021-08-10T01:09:02.601738",
     "exception": false,
     "start_time": "2021-08-10T01:09:02.593989",
     "status": "completed"
    },
    "tags": [
     "injected-parameters"
    ]
   },
   "outputs": [],
   "source": [
    "# Parameters\n",
    "dem_name = \"tdx_30\"\n",
    "test_dir = \"/Users/cmarshak/bekaert-team/dem-stitcher/tests\"\n"
   ]
  },
  {
   "cell_type": "markdown",
   "id": "informal-argument",
   "metadata": {
    "ExecuteTime": {
     "end_time": "2021-06-11T00:14:53.096258Z",
     "start_time": "2021-06-11T00:14:53.074433Z"
    },
    "papermill": {
     "duration": 0.003473,
     "end_time": "2021-08-10T01:09:02.608548",
     "exception": false,
     "start_time": "2021-08-10T01:09:02.605075",
     "status": "completed"
    },
    "tags": []
   },
   "source": [
    "# Check Download"
   ]
  },
  {
   "cell_type": "code",
   "execution_count": 4,
   "id": "blessed-leather",
   "metadata": {
    "ExecuteTime": {
     "end_time": "2021-07-08T15:58:58.527310Z",
     "start_time": "2021-07-08T15:57:19.263877Z"
    },
    "execution": {
     "iopub.execute_input": "2021-08-10T01:09:02.618617Z",
     "iopub.status.busy": "2021-08-10T01:09:02.618156Z",
     "iopub.status.idle": "2021-08-10T01:09:02.783208Z",
     "shell.execute_reply": "2021-08-10T01:09:02.783530Z"
    },
    "papermill": {
     "duration": 0.171732,
     "end_time": "2021-08-10T01:09:02.783701",
     "exception": false,
     "start_time": "2021-08-10T01:09:02.611969",
     "status": "completed"
    },
    "tags": []
   },
   "outputs": [
    {
     "ename": "ValueError",
     "evalue": "tdx_30 must be in srtm_v3, nasadem, ned1_aria, glo_30, 3dep, ned1",
     "output_type": "error",
     "traceback": [
      "\u001b[0;31m---------------------------------------------------------------------------\u001b[0m",
      "\u001b[0;31mValueError\u001b[0m                                Traceback (most recent call last)",
      "\u001b[0;32m<timed exec>\u001b[0m in \u001b[0;36m<module>\u001b[0;34m\u001b[0m\n",
      "\u001b[0;32m~/bekaert-team/dem-stitcher/dem_stitcher/stitcher.py\u001b[0m in \u001b[0;36mdownload_dem\u001b[0;34m(bounds, dem_name, dest_dir, ellipsoidal_height, save_raw_tiles, dst_area_or_point, dest_driver, max_workers, force_agi_read_for_geoid)\u001b[0m\n\u001b[1;32m    127\u001b[0m     \u001b[0;31m# Get tiles to download\u001b[0m\u001b[0;34m\u001b[0m\u001b[0;34m\u001b[0m\u001b[0;34m\u001b[0m\u001b[0m\n\u001b[1;32m    128\u001b[0m     \u001b[0mbox_sh\u001b[0m \u001b[0;34m=\u001b[0m \u001b[0mbox\u001b[0m\u001b[0;34m(\u001b[0m\u001b[0;34m*\u001b[0m\u001b[0mbounds\u001b[0m\u001b[0;34m)\u001b[0m\u001b[0;34m\u001b[0m\u001b[0;34m\u001b[0m\u001b[0m\n\u001b[0;32m--> 129\u001b[0;31m     \u001b[0mdf_tiles_all\u001b[0m \u001b[0;34m=\u001b[0m \u001b[0mget_dem_tile_extents\u001b[0m\u001b[0;34m(\u001b[0m\u001b[0mdem_name\u001b[0m\u001b[0;34m)\u001b[0m\u001b[0;34m\u001b[0m\u001b[0;34m\u001b[0m\u001b[0m\n\u001b[0m\u001b[1;32m    130\u001b[0m     \u001b[0mindex\u001b[0m \u001b[0;34m=\u001b[0m \u001b[0mdf_tiles_all\u001b[0m\u001b[0;34m.\u001b[0m\u001b[0mintersects\u001b[0m\u001b[0;34m(\u001b[0m\u001b[0mbox_sh\u001b[0m\u001b[0;34m)\u001b[0m\u001b[0;34m\u001b[0m\u001b[0;34m\u001b[0m\u001b[0m\n\u001b[1;32m    131\u001b[0m     \u001b[0mdf_tiles\u001b[0m \u001b[0;34m=\u001b[0m \u001b[0mdf_tiles_all\u001b[0m\u001b[0;34m[\u001b[0m\u001b[0mindex\u001b[0m\u001b[0;34m]\u001b[0m\u001b[0;34m.\u001b[0m\u001b[0mcopy\u001b[0m\u001b[0;34m(\u001b[0m\u001b[0;34m)\u001b[0m\u001b[0;34m\u001b[0m\u001b[0;34m\u001b[0m\u001b[0m\n",
      "\u001b[0;32m~/bekaert-team/dem-stitcher/dem_stitcher/datasets.py\u001b[0m in \u001b[0;36mget_dem_tile_extents\u001b[0;34m(dataset)\u001b[0m\n\u001b[1;32m     18\u001b[0m \u001b[0;32mdef\u001b[0m \u001b[0mget_dem_tile_extents\u001b[0m\u001b[0;34m(\u001b[0m\u001b[0mdataset\u001b[0m\u001b[0;34m:\u001b[0m \u001b[0mstr\u001b[0m\u001b[0;34m)\u001b[0m \u001b[0;34m->\u001b[0m \u001b[0mgpd\u001b[0m\u001b[0;34m.\u001b[0m\u001b[0mGeoDataFrame\u001b[0m\u001b[0;34m:\u001b[0m\u001b[0;34m\u001b[0m\u001b[0;34m\u001b[0m\u001b[0m\n\u001b[1;32m     19\u001b[0m     \u001b[0;32mif\u001b[0m \u001b[0mdataset\u001b[0m \u001b[0;32mnot\u001b[0m \u001b[0;32min\u001b[0m \u001b[0mDATASETS\u001b[0m\u001b[0;34m:\u001b[0m\u001b[0;34m\u001b[0m\u001b[0;34m\u001b[0m\u001b[0m\n\u001b[0;32m---> 20\u001b[0;31m         \u001b[0;32mraise\u001b[0m \u001b[0mValueError\u001b[0m\u001b[0;34m(\u001b[0m\u001b[0;34mf'{dataset} must be in {\", \".join(DATASETS)}'\u001b[0m\u001b[0;34m)\u001b[0m\u001b[0;34m\u001b[0m\u001b[0;34m\u001b[0m\u001b[0m\n\u001b[0m\u001b[1;32m     21\u001b[0m     \u001b[0mdf\u001b[0m \u001b[0;34m=\u001b[0m \u001b[0mread_geojson_gzip\u001b[0m\u001b[0;34m(\u001b[0m\u001b[0mDATA_PATH\u001b[0m\u001b[0;34m/\u001b[0m\u001b[0;34mf'{dataset}.geojson.zip'\u001b[0m\u001b[0;34m)\u001b[0m\u001b[0;34m\u001b[0m\u001b[0;34m\u001b[0m\u001b[0m\n\u001b[1;32m     22\u001b[0m     \u001b[0mdf\u001b[0m\u001b[0;34m[\u001b[0m\u001b[0;34m'dem_name'\u001b[0m\u001b[0;34m]\u001b[0m \u001b[0;34m=\u001b[0m \u001b[0mdataset\u001b[0m\u001b[0;34m\u001b[0m\u001b[0;34m\u001b[0m\u001b[0m\n",
      "\u001b[0;31mValueError\u001b[0m: tdx_30 must be in srtm_v3, nasadem, ned1_aria, glo_30, 3dep, ned1"
     ]
    }
   ],
   "source": [
    "%%time\n",
    "\n",
    "out_path = download_dem(bounds, \n",
    "                        dem_name, \n",
    "                        f'{test_dir}/{dem_name}_test',\n",
    "                        save_raw_tiles=save_raw_tiles,\n",
    "                        # More than 5 workers can cause timeout errors.\n",
    "                        max_workers=5,\n",
    "                        force_agi_read_for_geoid=force_agi_read)\n",
    "out_path"
   ]
  },
  {
   "cell_type": "markdown",
   "id": "clinical-expansion",
   "metadata": {
    "tags": [
     "papermill-error-cell-tag"
    ]
   },
   "source": [
    "<span id=\"papermill-error-cell\" style=\"color:red; font-family:Helvetica Neue, Helvetica, Arial, sans-serif; font-size:2em;\">Execution using papermill encountered an exception here and stopped:</span>"
   ]
  },
  {
   "cell_type": "code",
   "execution_count": 5,
   "id": "packed-anime",
   "metadata": {
    "ExecuteTime": {
     "end_time": "2021-07-08T15:58:58.607726Z",
     "start_time": "2021-07-08T15:58:58.528919Z"
    },
    "execution": {
     "iopub.execute_input": "2021-08-10T01:09:02.794945Z",
     "iopub.status.busy": "2021-08-10T01:09:02.794455Z",
     "iopub.status.idle": "2021-08-10T01:09:02.802426Z",
     "shell.execute_reply": "2021-08-10T01:09:02.801744Z"
    },
    "papermill": {
     "duration": 0.014678,
     "end_time": "2021-08-10T01:09:02.802590",
     "exception": true,
     "start_time": "2021-08-10T01:09:02.787912",
     "status": "failed"
    },
    "tags": []
   },
   "outputs": [
    {
     "ename": "NameError",
     "evalue": "name 'out_path' is not defined",
     "output_type": "error",
     "traceback": [
      "\u001b[0;31m---------------------------------------------------------------------------\u001b[0m",
      "\u001b[0;31mNameError\u001b[0m                                 Traceback (most recent call last)",
      "\u001b[0;32m<ipython-input-5-315f164f324d>\u001b[0m in \u001b[0;36m<module>\u001b[0;34m\u001b[0m\n\u001b[0;32m----> 1\u001b[0;31m \u001b[0;32mwith\u001b[0m \u001b[0mrasterio\u001b[0m\u001b[0;34m.\u001b[0m\u001b[0mopen\u001b[0m\u001b[0;34m(\u001b[0m\u001b[0mout_path\u001b[0m\u001b[0;34m)\u001b[0m \u001b[0;32mas\u001b[0m \u001b[0mds\u001b[0m\u001b[0;34m:\u001b[0m\u001b[0;34m\u001b[0m\u001b[0;34m\u001b[0m\u001b[0m\n\u001b[0m\u001b[1;32m      2\u001b[0m     \u001b[0mX_0\u001b[0m \u001b[0;34m=\u001b[0m \u001b[0mds\u001b[0m\u001b[0;34m.\u001b[0m\u001b[0mread\u001b[0m\u001b[0;34m(\u001b[0m\u001b[0;36m1\u001b[0m\u001b[0;34m)\u001b[0m\u001b[0;34m\u001b[0m\u001b[0;34m\u001b[0m\u001b[0m\n\u001b[1;32m      3\u001b[0m     \u001b[0mp_0\u001b[0m \u001b[0;34m=\u001b[0m \u001b[0mds\u001b[0m\u001b[0;34m.\u001b[0m\u001b[0mprofile\u001b[0m\u001b[0;34m\u001b[0m\u001b[0;34m\u001b[0m\u001b[0m\n",
      "\u001b[0;31mNameError\u001b[0m: name 'out_path' is not defined"
     ]
    }
   ],
   "source": [
    "with rasterio.open(out_path) as ds:\n",
    "    X_0 = ds.read(1)\n",
    "    p_0 = ds.profile"
   ]
  },
  {
   "cell_type": "code",
   "execution_count": null,
   "id": "accomplished-enforcement",
   "metadata": {
    "ExecuteTime": {
     "end_time": "2021-07-08T15:58:59.446550Z",
     "start_time": "2021-07-08T15:58:58.609108Z"
    },
    "papermill": {
     "duration": null,
     "end_time": null,
     "exception": null,
     "start_time": null,
     "status": "pending"
    },
    "tags": []
   },
   "outputs": [],
   "source": [
    "fig, ax = plt.subplots()\n",
    "im = ax.imshow(X_0, vmin=0)\n",
    "fig.colorbar(im, label='Ellipsoidal Height (m)')"
   ]
  },
  {
   "cell_type": "markdown",
   "id": "relevant-grain",
   "metadata": {
    "papermill": {
     "duration": null,
     "end_time": null,
     "exception": null,
     "start_time": null,
     "status": "pending"
    },
    "tags": []
   },
   "source": [
    "Remove all data files."
   ]
  },
  {
   "cell_type": "code",
   "execution_count": null,
   "id": "about-laundry",
   "metadata": {
    "ExecuteTime": {
     "end_time": "2021-07-08T15:58:59.458246Z",
     "start_time": "2021-07-08T15:58:59.448058Z"
    },
    "papermill": {
     "duration": null,
     "end_time": null,
     "exception": null,
     "start_time": null,
     "status": "pending"
    },
    "tags": []
   },
   "outputs": [],
   "source": [
    "data_dir = out_path.parents[0]\n",
    "[file.unlink() for file in data_dir.glob('*')]\n",
    "data_dir.rmdir()"
   ]
  }
 ],
 "metadata": {
  "celltoolbar": "Tags",
  "kernelspec": {
   "display_name": "dem_stitcher",
   "language": "python",
   "name": "dem_stitcher"
  },
  "language_info": {
   "codemirror_mode": {
    "name": "ipython",
    "version": 3
   },
   "file_extension": ".py",
   "mimetype": "text/x-python",
   "name": "python",
   "nbconvert_exporter": "python",
   "pygments_lexer": "ipython3",
   "version": "3.8.10"
  },
  "papermill": {
   "default_parameters": {},
   "duration": 1.874731,
   "end_time": "2021-08-10T01:09:03.125471",
   "environment_variables": {},
   "exception": true,
   "input_path": "/Users/cmarshak/bekaert-team/dem-stitcher/tests/test_notebook.ipynb",
   "output_path": "/Users/cmarshak/bekaert-team/dem-stitcher/tests/out/tdx_30.ipynb",
   "parameters": {
    "dem_name": "tdx_30",
    "test_dir": "/Users/cmarshak/bekaert-team/dem-stitcher/tests"
   },
   "start_time": "2021-08-10T01:09:01.250740",
   "version": "2.3.3"
  }
 },
 "nbformat": 4,
 "nbformat_minor": 5
}